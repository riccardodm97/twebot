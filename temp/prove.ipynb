{
 "cells": [
  {
   "cell_type": "code",
   "execution_count": null,
   "metadata": {},
   "outputs": [],
   "source": [
    "# to print all output for a cell instead of only last one \n",
    "from IPython.core.interactiveshell import InteractiveShell\n",
    "InteractiveShell.ast_node_interactivity = 'all'"
   ]
  },
  {
   "cell_type": "code",
   "execution_count": null,
   "metadata": {},
   "outputs": [],
   "source": [
    "string = ' ciao mi ✅ riccardo :) '\n",
    "\n",
    "print(string)"
   ]
  },
  {
   "cell_type": "code",
   "execution_count": null,
   "metadata": {},
   "outputs": [],
   "source": [
    "import pandas as pd \n",
    "tweets_df = None \n",
    "pd.Series(' '.join(tweets_df[tweets_df['label']=='1']['tweet']).lower().split()).value_counts()[:1000].to_dict().keys()"
   ]
  },
  {
   "cell_type": "code",
   "execution_count": null,
   "metadata": {},
   "outputs": [],
   "source": [
    "import reticker \n",
    "# reticker.config.BLACKLIST.add(\"RT\")\n",
    "config = reticker.TickerMatchConfig(unprefixed_uppercase=False,prefixed_titlecase=False)\n",
    "extractor = reticker.TickerExtractor(match_config=config)\n",
    "\n",
    "df1 = tweets_df[tweets_df['tweet'].str.contains('(?<!\\S)\\$[a-zA-Z]+(?!\\S)', regex=True)]\n",
    "df3 = tweets_df[tweets_df['tweet'].str.contains('[$][A-Za-z][\\S]', regex=True)]\n",
    "df4 = tweets_df[tweets_df['tweet'].str.contains(extractor.pattern, regex=True)]\n",
    "\n"
   ]
  },
  {
   "cell_type": "code",
   "execution_count": null,
   "metadata": {},
   "outputs": [],
   "source": [
    "l = tweets_df['tweet'].str.findall(\"(?<!\\S)\\$[0-9]+(?!\\S)\")\n",
    "\n",
    "lb = [el for el in l if el]\n",
    "\n",
    "l2 = tweets_df['tweet'].str.findall(\"\\\\B\\$[0-9]+(?:\\.\\d+)?[k+]?\")\n",
    "\n",
    "lb2 = [el for el in l2 if el]\n",
    "\n",
    "import itertools\n",
    "lb = list(itertools.chain(*lb))\n",
    "lb2 = list(itertools.chain(*lb2))\n",
    "\n",
    "print(list(set(lb2) - set(lb)))"
   ]
  },
  {
   "cell_type": "code",
   "execution_count": null,
   "metadata": {},
   "outputs": [],
   "source": [
    "EMOTICONS = [':\\)','\\(:',':-\\)','\\s:\\^\\)\\s','\\s=\\]\\s','\\s:-\\(\\s','\\s:\\(\\s','\\s:\\(\\s','\\^_\\^','\\s:\\'\\(\\s','\\s:-D\\s']\n",
    "\n",
    "tweets_df2 = tweets_df.copy(deep=True)"
   ]
  },
  {
   "cell_type": "code",
   "execution_count": null,
   "metadata": {},
   "outputs": [],
   "source": [
    "tk.tokenize(\"what's going on over there, they're my friends\")"
   ]
  },
  {
   "cell_type": "code",
   "execution_count": null,
   "metadata": {},
   "outputs": [],
   "source": [
    "URL_KEYWORDS = ['https', 'http', '.com']\n",
    "sentence = 'ciao'\n",
    "sentence = [' url ' if any(k in word for k in URL_KEYWORDS) else word for word in sentence]\n"
   ]
  },
  {
   "cell_type": "code",
   "execution_count": null,
   "metadata": {},
   "outputs": [],
   "source": [
    "import re \n",
    "def replace(word : str):\n",
    "    if not word.isascii():\n",
    "        return ['']\n",
    "    elif bool(re.search(r'http[s]?|.com',word)):\n",
    "        return ['url']\n",
    "    elif bool(re.search(r'\\d',word)):\n",
    "        return ['number']\n",
    "    elif bool(re.search(r'haha|ahah|jaja|ajaj',word)):\n",
    "        return ['ahah']\n",
    "    elif bool(re.search(r'\\n',word)):\n",
    "        return ['']\n",
    "    elif bool(re.search('-',word)):\n",
    "        return re.sub('-',' ',word).split()\n",
    "    else :\n",
    "        return re.split(\"(')\",word) \n",
    "        # return [word]\n",
    "\n",
    "a = \"ciao mi chiamo mario batti5 ahahhah , guarda il mio-profilo https:// 𝙒𝙞𝙨𝙝𝙞𝙣𝙜, su-per-be-llo. There's that\"\n",
    "\n",
    "print([w for word in a.split() for w in replace(word) ])\n",
    "\n"
   ]
  }
 ],
 "metadata": {
  "kernelspec": {
   "display_name": "Python 3.10.4 ('twebot')",
   "language": "python",
   "name": "python3"
  },
  "language_info": {
   "codemirror_mode": {
    "name": "ipython",
    "version": 3
   },
   "file_extension": ".py",
   "mimetype": "text/x-python",
   "name": "python",
   "nbconvert_exporter": "python",
   "pygments_lexer": "ipython3",
   "version": "3.10.4"
  },
  "orig_nbformat": 4,
  "vscode": {
   "interpreter": {
    "hash": "4e66f267e62df30a19496c87edf4ee02f643c0c674deb1d9d6ade2624584bc1e"
   }
  }
 },
 "nbformat": 4,
 "nbformat_minor": 2
}
