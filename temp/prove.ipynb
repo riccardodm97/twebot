{
 "cells": [
  {
   "cell_type": "code",
   "execution_count": null,
   "metadata": {},
   "outputs": [],
   "source": []
  }
 ],
 "metadata": {
  "kernelspec": {
   "display_name": "Python 3.9.5 ('base')",
   "language": "python",
   "name": "python3"
  },
  "language_info": {
   "name": "python",
   "version": "3.9.5"
  },
  "orig_nbformat": 4,
  "vscode": {
   "interpreter": {
    "hash": "416b3473296436db5c82be6b730e6cb772803ca24b3c891a64dd82b262a5954a"
   }
  }
 },
 "nbformat": 4,
 "nbformat_minor": 2
}
