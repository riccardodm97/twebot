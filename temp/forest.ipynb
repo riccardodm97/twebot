{
 "cells": [
  {
   "cell_type": "code",
   "execution_count": 3,
   "metadata": {},
   "outputs": [],
   "source": [
    "# to print all output for a cell instead of only last one \n",
    "from IPython.core.interactiveshell import InteractiveShell\n",
    "InteractiveShell.ast_node_interactivity = 'all'"
   ]
  },
  {
   "cell_type": "code",
   "execution_count": 2,
   "metadata": {},
   "outputs": [],
   "source": [
    "#import all libraries and modules \n",
    "\n",
    "import os\n",
    "import pandas as pd\n",
    "import numpy as np"
   ]
  },
  {
   "cell_type": "code",
   "execution_count": 11,
   "metadata": {},
   "outputs": [],
   "source": [
    "DATA_FOLDER = os.path.join(os.getcwd(),\"data\") # directory containing the notebook"
   ]
  },
  {
   "cell_type": "code",
   "execution_count": 13,
   "metadata": {},
   "outputs": [],
   "source": [
    "import json \n",
    "\n",
    "json_file_path_train = DATA_FOLDER + '/Twibot-20/train.json'\n",
    "\n",
    "with open(json_file_path_train, 'r') as tr:\n",
    "    contents = json.loads(tr.read())\n",
    "    train_df = pd.json_normalize(contents)\n",
    "\n"
   ]
  },
  {
   "cell_type": "code",
   "execution_count": 8,
   "metadata": {},
   "outputs": [
    {
     "data": {
      "text/plain": [
       "ID                                                                                     17461978\n",
       "tweet                                         [RT @CarnivalCruise: 🎉 Are you ready to see wh...\n",
       "neighbor                                                                                    NaN\n",
       "domain                                                      [Politics, Business, Entertainment]\n",
       "label                                                                                         0\n",
       "profile.id                                                                            17461978 \n",
       "profile.id_str                                                                        17461978 \n",
       "profile.name                                                                              SHAQ \n",
       "profile.screen_name                                                                       SHAQ \n",
       "profile.location                                                                   Orlando, FL \n",
       "profile.profile_location                      {'id': '55b4f9e5c516e0b6', 'url': 'https://api...\n",
       "profile.description                           VERY QUOTATIOUS, I PERFORM RANDOM ACTS OF SHAQ...\n",
       "profile.url                                                            https://t.co/7hsiK8cCKW \n",
       "profile.entities                              {'url': {'urls': [{'url': 'https://t.co/7hsiK8...\n",
       "profile.protected                                                                        False \n",
       "profile.followers_count                                                               15349596 \n",
       "profile.friends_count                                                                      692 \n",
       "profile.listed_count                                                                     45568 \n",
       "profile.created_at                                              Tue Nov 18 10:27:25 +0000 2008 \n",
       "profile.favourites_count                                                                   142 \n",
       "profile.utc_offset                                                                        None \n",
       "profile.time_zone                                                                         None \n",
       "profile.geo_enabled                                                                       True \n",
       "profile.verified                                                                          True \n",
       "profile.statuses_count                                                                    9798 \n",
       "profile.lang                                                                              None \n",
       "profile.contributors_enabled                                                             False \n",
       "profile.is_translator                                                                    False \n",
       "profile.is_translation_enabled                                                           False \n",
       "profile.profile_background_color                                                        080203 \n",
       "profile.profile_background_image_url          http://abs.twimg.com/images/themes/theme1/bg.png \n",
       "profile.profile_background_image_url_https    https://abs.twimg.com/images/themes/theme1/bg....\n",
       "profile.profile_background_tile                                                          False \n",
       "profile.profile_image_url                     http://pbs.twimg.com/profile_images/1673907275...\n",
       "profile.profile_image_url_https               https://pbs.twimg.com/profile_images/167390727...\n",
       "profile.profile_link_color                                                              2FC2EF \n",
       "profile.profile_sidebar_border_color                                                    181A1E \n",
       "profile.profile_sidebar_fill_color                                                      252429 \n",
       "profile.profile_text_color                                                              666666 \n",
       "profile.profile_use_background_image                                                      True \n",
       "profile.has_extended_profile                                                             False \n",
       "profile.default_profile                                                                  False \n",
       "profile.default_profile_image                                                            False \n",
       "neighbor.following                                                                          NaN\n",
       "neighbor.follower                                                                           NaN\n",
       "Name: 0, dtype: object"
      ]
     },
     "execution_count": 8,
     "metadata": {},
     "output_type": "execute_result"
    }
   ],
   "source": [
    "train_df.iloc[0]"
   ]
  }
 ],
 "metadata": {
  "kernelspec": {
   "display_name": "Python 3.10.4 ('twebot')",
   "language": "python",
   "name": "python3"
  },
  "language_info": {
   "codemirror_mode": {
    "name": "ipython",
    "version": 3
   },
   "file_extension": ".py",
   "mimetype": "text/x-python",
   "name": "python",
   "nbconvert_exporter": "python",
   "pygments_lexer": "ipython3",
   "version": "3.10.4"
  },
  "orig_nbformat": 4,
  "vscode": {
   "interpreter": {
    "hash": "4e66f267e62df30a19496c87edf4ee02f643c0c674deb1d9d6ade2624584bc1e"
   }
  }
 },
 "nbformat": 4,
 "nbformat_minor": 2
}
