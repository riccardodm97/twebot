{
 "cells": [
  {
   "cell_type": "code",
   "execution_count": 10,
   "metadata": {},
   "outputs": [],
   "source": [
    "# to print all output for a cell instead of only last one \n",
    "from IPython.core.interactiveshell import InteractiveShell\n",
    "InteractiveShell.ast_node_interactivity = 'all'"
   ]
  },
  {
   "cell_type": "code",
   "execution_count": 11,
   "metadata": {},
   "outputs": [],
   "source": [
    "# IMPORTS \n",
    "\n",
    "from pathlib import Path \n",
    "import os \n",
    "\n",
    "import pandas as pd\n",
    "import numpy as np\n",
    "from collections import OrderedDict, namedtuple"
   ]
  },
  {
   "cell_type": "code",
   "execution_count": 12,
   "metadata": {},
   "outputs": [],
   "source": [
    "# PATHS \n",
    "DATA_FOLDER = Path(*Path().absolute().parts[:-1]) / 'data' # directory containing the notebook"
   ]
  },
  {
   "cell_type": "markdown",
   "metadata": {},
   "source": [
    "Load data\n"
   ]
  },
  {
   "cell_type": "code",
   "execution_count": 4,
   "metadata": {},
   "outputs": [],
   "source": [
    "import json \n",
    "\n",
    "json_file_path_train = DATA_FOLDER / 'Twibot-20/train.json'\n",
    "json_file_path_val = DATA_FOLDER / 'Twibot-20/dev.json'\n",
    "json_file_path_test = DATA_FOLDER / 'Twibot-20/test.json'\n",
    "\n",
    "with open(json_file_path_train, 'r') as tr:\n",
    "     contents = json.loads(tr.read())\n",
    "     train_df = pd.json_normalize(contents)\n",
    "     train_df['split'] = 'train'\n",
    "\n",
    "with open(json_file_path_val, 'r') as vl:\n",
    "     contents = json.loads(vl.read())\n",
    "     val_df = pd.json_normalize(contents) \n",
    "     val_df['split'] = 'val'\n",
    "\n",
    "with open(json_file_path_test, 'r') as ts:\n",
    "     contents = json.loads(ts.read())\n",
    "     test_df = pd.json_normalize(contents) \n",
    "     test_df['split'] = 'test'\n",
    "\n",
    "df = pd.concat([train_df,val_df,test_df],ignore_index=True) # merge three datasets\n",
    "df.dropna(subset=['tweet'], inplace=True)  # remove rows withot any tweet \n",
    "df.set_index(keys='ID',inplace=True) # reset index\n",
    "\n",
    "# split dataframe in two : tweet and account data \n",
    "tweets_df = df[['tweet','label','split']].reset_index()\n",
    "tweets_df = tweets_df.explode('tweet').reset_index(drop=True)\n",
    "tweets_df.rename(columns={\"ID\": \"account_id\"}, inplace=True)\n",
    "\n",
    "account_df = df.drop('tweet',axis=1).reset_index()\n",
    "account_df.rename(columns={\"ID\": \"account_id\"}, inplace=True)\n"
   ]
  },
  {
   "cell_type": "markdown",
   "metadata": {},
   "source": [
    "DATA PROCESSING AND CLEANING  "
   ]
  },
  {
   "cell_type": "code",
   "execution_count": 13,
   "metadata": {},
   "outputs": [
    {
     "name": "stdout",
     "output_type": "stream",
     "text": [
      "found already processed dataset in data folder, retrieving the file...\n",
      "dataset loaded in Dataframe\n"
     ]
    }
   ],
   "source": [
    "import emoji\n",
    "from nltk.tokenize import TweetTokenizer\n",
    "\n",
    "from ttp import ttp \n",
    "parser = ttp.Parser(include_spans=True)\n",
    "\n",
    "from emot.core import emot\n",
    "emot_obj = emot()\n",
    "\n",
    "import re \n",
    "\n",
    "tk = TweetTokenizer(reduce_len=True,preserve_case=False)\n",
    "\n",
    "CASHTAG = \"(?<!\\S)\\$[A-Z]+(?:\\.[A-Z]+)?(?!\\S)\"   # to check  (?:\\.[A-Z]+)?\n",
    "EMAIL = r\"\"\"[\\w.+-]+@[\\w-]+\\.(?:[\\w-]\\.?)+[\\w-]\"\"\"\n",
    "MONEY = \"[$£][0-9]+(?:[.,]\\d+)?[k+B]?|[0-9]+(?:[.,]\\d+)?[k+B]?[$£]\"  \n",
    "NUMBERS = r\"\"\"(?<!\\S)(?:[+\\-]?\\d+(?:%|(?:[,/.:-]\\d+[+\\-]?)?))\"\"\"   # r\"\"\"(?:[+\\-]?\\d+[,/.:-]\\d+[+\\-]?)\"\"\"   \n",
    "HASHTAG = r\"\"\"(?:\\#+[\\w_]+[\\w\\'_\\-]*[\\w_]+)\"\"\"\n",
    "HANDLES = r\"\"\"(?:@[\\w_]+)\"\"\" \n",
    "\n",
    "TO_REPLACE = [CASHTAG, EMAIL, MONEY, NUMBERS, HASHTAG, HANDLES]\n",
    "REPLACE_WITH = [' stock ',' email ',' money ',' number ',' hashtag ',' username ']\n",
    "\n",
    "\n",
    "def replace(word : str):\n",
    "    if not word.isascii():\n",
    "        return ['']\n",
    "    elif bool(re.search(r'http[s]?|.com',word)):\n",
    "        return ['url']\n",
    "    elif bool(re.search(r'\\d',word)):\n",
    "        return ['number']\n",
    "    elif bool(re.search(r'haha|ahah|jaja|ajaj',word)):\n",
    "        return ['ahah']\n",
    "    elif bool(re.search(r'\\n',word)):\n",
    "        return ['']\n",
    "    elif bool(re.search('-',word)):\n",
    "        return re.sub('-',' ',word).split()    #TODO separare parole con l'apostrofo\n",
    "    else :\n",
    "        return [word] \n",
    "    \n",
    "\n",
    "def further_process(sentence: str):\n",
    "        #replace urls \n",
    "        result = parser.parse(sentence, html=False)\n",
    "        urls = dict(result.urls).keys()\n",
    "        for url in urls:\n",
    "                sentence = sentence.replace(url,' url ')\n",
    "        \n",
    "        #replace emoticons \n",
    "        emoticons = emot_obj.emoticons(sentence)\n",
    "        for emoticon in emoticons['value']:\n",
    "                sentence = sentence.replace(emoticon,' emoticon ')\n",
    "        \n",
    "        #replace emoji\n",
    "        sentence = emoji.replace_emoji(sentence,' emoji ')\n",
    "\n",
    "        #tokenize\n",
    "        sentence = tk.tokenize(sentence)\n",
    "\n",
    "        #replace residual wrong words \n",
    "        sentence = [w for word in sentence for w in replace(word)]\n",
    "        \n",
    "        #remove empty strings \n",
    "        sentence = [word for word in sentence if word != '']\n",
    "                \n",
    "        return sentence\n",
    "\n",
    "dataset_path = DATA_FOLDER / 'processed_dataset.pkl'\n",
    "force_processing = False\n",
    "\n",
    "#apply preprocessing      \n",
    "if os.path.exists(dataset_path) and not force_processing: \n",
    "    print('found already processed dataset in data folder, retrieving the file...')\n",
    "    tweets_df = pd.read_pickle(dataset_path)\n",
    "    print('dataset loaded in Dataframe')\n",
    "    \n",
    "else : \n",
    "    tweets_df['processed_tweet'] = tweets_df['tweet'].replace(TO_REPLACE,REPLACE_WITH,regex=True,inplace=False)\n",
    "    tweets_df['processed_tweet'] = tweets_df['processed_tweet'].apply(further_process)\n",
    "\n",
    "    tweets_df[tweets_df['processed_tweet'].map(lambda x: len(x)) > 0].reset_index(drop=True,inplace=True)   #TODO CHECK  \n",
    "\n",
    "    tweets_df['label'] = tweets_df['label'].astype(float)  #TODO CHECK   # transform label from string to float \n",
    "\n",
    "    tweets_df.to_pickle(DATA_FOLDER / 'processed_dataset.pkl')   #save to file \n"
   ]
  },
  {
   "cell_type": "markdown",
   "metadata": {},
   "source": [
    "DOWNLOAD TWITTER GLOVE EMBEDDINGS"
   ]
  },
  {
   "cell_type": "code",
   "execution_count": 22,
   "metadata": {},
   "outputs": [
    {
     "name": "stdout",
     "output_type": "stream",
     "text": [
      "found cached glove vectors in data folder, retrieving the file...\n",
      "vectors loaded\n"
     ]
    }
   ],
   "source": [
    "import gensim\n",
    "import gensim.downloader as gloader\n",
    "from gensim.models import KeyedVectors\n",
    "\n",
    "glove_model_cached_path = DATA_FOLDER / 'glove_vectors.txt'\n",
    "glove_model_download_path = 'glove-twitter-200'\n",
    "force_download = False  # to download glove model even if the vectors model has been already stored. Mainly for testing purposes\n",
    "\n",
    "if os.path.exists(glove_model_cached_path) and not force_download: \n",
    "    print('found cached glove vectors in data folder, retrieving the file...')\n",
    "    emb_model = KeyedVectors.load_word2vec_format(glove_model_cached_path, binary=True)\n",
    "    print('vectors loaded')\n",
    "\n",
    "else:\n",
    "    print('downloading glove embeddings...')        \n",
    "    emb_model = gloader.load(glove_model_download_path)\n",
    "\n",
    "    print('saving glove embeddings to file')  \n",
    "    emb_model.save_word2vec_format(glove_model_cached_path, binary=True)"
   ]
  },
  {
   "cell_type": "markdown",
   "metadata": {},
   "source": [
    "CUSTOM DATA HANDLING  "
   ]
  },
  {
   "cell_type": "code",
   "execution_count": 51,
   "metadata": {},
   "outputs": [],
   "source": [
    "from torch.utils.data import Dataset, DataLoader\n",
    "import torch.nn.utils.rnn as rnn\n",
    "import torch \n",
    "\n",
    "Vocab = namedtuple('Vocabulary',['word2int','int2word','unique_words'])\n",
    "\n",
    "class TwitterDataset(Dataset):\n",
    "\n",
    "    def __init__(self, dataframe: pd.DataFrame):\n",
    "        self.tweet = dataframe['processed_tweet']\n",
    "        self.label = dataframe['label']\n",
    "\n",
    "    def __len__(self):\n",
    "        return len(self.label)\n",
    "\n",
    "    def __getitem__(self, idx):\n",
    "        return {\n",
    "            'tweet': self.tweet[idx],\n",
    "            'label': self.label[idx],\n",
    "            }\n",
    "\n",
    "class TwitterDataManager():\n",
    "\n",
    "    def __init__(self, dataframe : pd.DataFrame, device ):\n",
    "\n",
    "        self.device = device \n",
    "\n",
    "        self.dataset = dataframe.copy(deep=True)\n",
    "        self.train_ds = TwitterDataset(self.dataset[self.dataset['split'] == 'train'].reset_index(drop=True))\n",
    "        self.val_ds = TwitterDataset(self.dataset[self.dataset['split'] == 'val'].reset_index(drop=True))\n",
    "        self.test_ds = TwitterDataset(self.dataset[self.dataset['split'] == 'test'].reset_index(drop=True))\n",
    "\n",
    "    def custom_collate(self, batch):\n",
    "        \n",
    "        tweet_lengths = torch.tensor([len(example['tweet']) for example in batch], device=self.device) \n",
    "\n",
    "        numerized_tweets = [self.numericalize(example['tweet']) for example in batch]\n",
    "        padded_tweets = rnn.pad_sequence(numerized_tweets, batch_first = True, padding_value = self.vocab.word2int['<pad>']).to(self.device)\n",
    "\n",
    "        labels = torch.tensor([example['label'] for example in batch],device=self.device) #(5)\n",
    "\n",
    "        return {\n",
    "            'tweets': padded_tweets,\n",
    "            'labels': labels,\n",
    "            'lengths': tweet_lengths\n",
    "        }\n",
    "    \n",
    "    def numericalize(self, token_list):  \n",
    "\n",
    "        assert self.vocab is not None, \"you have to build the vocab first, call build_vocab method to do it\"\n",
    "        return torch.tensor(list(map(self.vocab.word2int.get,token_list)))\n",
    "    \n",
    "    def build_vocab(self): \n",
    "        print('Building vocab...')\n",
    "\n",
    "        unique_words : list = self.dataset['processed_tweet'].explode().unique().tolist()\n",
    "        unique_words.insert(0,'<pad>')\n",
    "\n",
    "        word2int = OrderedDict()\n",
    "        int2word = OrderedDict()\n",
    "\n",
    "        for i, word in enumerate(unique_words):\n",
    "            word2int[word] = i           \n",
    "            int2word[i] = word\n",
    "        \n",
    "        self.vocab = Vocab(word2int,int2word,unique_words)\n",
    "\n",
    "        print(f'the number of unique words is {len(unique_words)}')\n",
    "    \n",
    "    def build_emb_matrix(self, emb_model): \n",
    "        print('Building embedding matrix...')\n",
    "\n",
    "        embedding_dimension = emb_model.vector_size #how many numbers each emb vector is composed of                                                           \n",
    "        embedding_matrix = np.zeros((len(self.vocab.word2int)+1, embedding_dimension), dtype=np.float32)   #create a matrix initialized with all zeros \n",
    "\n",
    "        for word, idx in self.vocab.word2int.items():\n",
    "            try:\n",
    "                embedding_vector = emb_model[word]\n",
    "            except (KeyError, TypeError):\n",
    "                embedding_vector = np.random.uniform(low=-0.05, high=0.05, size=embedding_dimension)\n",
    "\n",
    "            embedding_matrix[idx] = embedding_vector     #assign the retrived or the generated vector to the corresponding index \n",
    "        \n",
    "        self.emb_matrix = embedding_matrix\n",
    "        \n",
    "        print(f\"Embedding matrix shape: {embedding_matrix.shape}\")\n",
    "    \n",
    "    def getDataloader(self, split : str, batch_size : int, shuffle : bool):\n",
    "\n",
    "        dataset = getattr(self,split+'_ds') \n",
    "        return DataLoader(dataset,batch_size,shuffle=shuffle,collate_fn=self.custom_collate)"
   ]
  },
  {
   "cell_type": "code",
   "execution_count": 52,
   "metadata": {},
   "outputs": [],
   "source": [
    "DEVICE = torch.device(\"cuda:0\" if torch.cuda.is_available() else \"cpu\")"
   ]
  },
  {
   "cell_type": "code",
   "execution_count": 53,
   "metadata": {},
   "outputs": [],
   "source": [
    "tweets_df['label'] = tweets_df['label'].astype(float)"
   ]
  },
  {
   "cell_type": "code",
   "execution_count": 54,
   "metadata": {},
   "outputs": [
    {
     "name": "stdout",
     "output_type": "stream",
     "text": [
      "Building vocab...\n",
      "the number of unique words is 397347\n"
     ]
    },
    {
     "data": {
      "text/plain": [
       "0"
      ]
     },
     "execution_count": 54,
     "metadata": {},
     "output_type": "execute_result"
    }
   ],
   "source": [
    "data_manager = TwitterDataManager(tweets_df,DEVICE)\n",
    "data_manager.build_vocab()\n",
    "data_manager.vocab.word2int['<pad>']"
   ]
  },
  {
   "cell_type": "code",
   "execution_count": 55,
   "metadata": {},
   "outputs": [],
   "source": [
    "l = data_manager.getDataloader('train',5,False)"
   ]
  }
 ],
 "metadata": {
  "kernelspec": {
   "display_name": "Python 3.10.4 ('twebot')",
   "language": "python",
   "name": "python3"
  },
  "language_info": {
   "codemirror_mode": {
    "name": "ipython",
    "version": 3
   },
   "file_extension": ".py",
   "mimetype": "text/x-python",
   "name": "python",
   "nbconvert_exporter": "python",
   "pygments_lexer": "ipython3",
   "version": "3.10.4"
  },
  "orig_nbformat": 4,
  "vscode": {
   "interpreter": {
    "hash": "4e66f267e62df30a19496c87edf4ee02f643c0c674deb1d9d6ade2624584bc1e"
   }
  }
 },
 "nbformat": 4,
 "nbformat_minor": 2
}
