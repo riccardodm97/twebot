{
 "cells": [
  {
   "cell_type": "code",
   "execution_count": null,
   "metadata": {},
   "outputs": [],
   "source": [
    "# to print all output for a cell instead of only last one \n",
    "from IPython.core.interactiveshell import InteractiveShell\n",
    "InteractiveShell.ast_node_interactivity = 'all'"
   ]
  },
  {
   "cell_type": "code",
   "execution_count": null,
   "metadata": {},
   "outputs": [],
   "source": [
    "# IMPORTS \n",
    "\n",
    "from pathlib import Path \n",
    "import os \n",
    "\n",
    "import pandas as pd\n",
    "import numpy as np"
   ]
  },
  {
   "cell_type": "code",
   "execution_count": null,
   "metadata": {},
   "outputs": [],
   "source": [
    "# PATHS \n",
    "\n",
    "DATA_FOLDER = Path(*Path().absolute().parts[:-1]) / 'data' # directory containing the notebook"
   ]
  },
  {
   "cell_type": "markdown",
   "metadata": {},
   "source": [
    "Load data\n"
   ]
  },
  {
   "cell_type": "code",
   "execution_count": null,
   "metadata": {},
   "outputs": [],
   "source": [
    "import json \n",
    "\n",
    "json_file_path_train = DATA_FOLDER / 'Twibot-20/train.json'\n",
    "json_file_path_val = DATA_FOLDER / 'Twibot-20/dev.json'\n",
    "json_file_path_test = DATA_FOLDER / 'Twibot-20/test.json'\n",
    "\n",
    "with open(json_file_path_train, 'r') as tr:\n",
    "     contents = json.loads(tr.read())\n",
    "     train_df = pd.json_normalize(contents)\n",
    "     train_df['split'] = 'train'\n",
    "\n",
    "with open(json_file_path_val, 'r') as vl:\n",
    "     contents = json.loads(vl.read())\n",
    "     val_df = pd.json_normalize(contents) \n",
    "     val_df['split'] = 'val'\n",
    "\n",
    "with open(json_file_path_test, 'r') as ts:\n",
    "     contents = json.loads(ts.read())\n",
    "     test_df = pd.json_normalize(contents) \n",
    "     test_df['split'] = 'test'\n",
    "\n",
    "df = pd.concat([train_df,val_df,test_df],ignore_index=True) # merge three datasets\n",
    "df.dropna(subset=['tweet'], inplace=True)  # remove rows withot any tweet \n",
    "df.set_index(keys='ID',inplace=True) # reset index\n",
    "\n",
    "# split dataframe in two : tweet and account data \n",
    "tweets_df = df[['tweet','label','split']].reset_index()\n",
    "tweets_df = tweets_df.explode('tweet').reset_index(drop=True)\n",
    "tweets_df.rename(columns={\"ID\": \"account_id\"}, inplace=True)\n",
    "\n",
    "account_df = df.drop('tweet',axis=1).reset_index()\n",
    "account_df.rename(columns={\"ID\": \"account_id\"}, inplace=True)\n"
   ]
  },
  {
   "cell_type": "markdown",
   "metadata": {},
   "source": [
    "DATA PROCESSING AND CLEANING  "
   ]
  },
  {
   "cell_type": "code",
   "execution_count": null,
   "metadata": {},
   "outputs": [],
   "source": [
    "import emoji\n",
    "from nltk.tokenize import TweetTokenizer\n",
    "\n",
    "from ttp import ttp \n",
    "parser = ttp.Parser(include_spans=True)\n",
    "\n",
    "from emot.core import emot\n",
    "emot_obj = emot()\n",
    "\n",
    "tk = TweetTokenizer(reduce_len=True,preserve_case=False)\n",
    "\n",
    "CASHTAG = \"(?<!\\S)\\$[A-Z]+(?:\\.[A-Z]+)?(?!\\S)\"   # to check  (?:\\.[A-Z]+)?\n",
    "EMAIL = r\"\"\"[\\w.+-]+@[\\w-]+\\.(?:[\\w-]\\.?)+[\\w-]\"\"\"\n",
    "MONEY = \"[$£][0-9]+(?:[.,]\\d+)?[k+]?|[0-9]+(?:[.,]\\d+)?[k+]?[$£]\"  \n",
    "SPECIAL_NUMBERS = r\"\"\"(?:[+\\-]?\\d+[,/.:-]\\d+[+\\-]?)\"\"\" #'(?:[+\\-]?\\d+[,/.:-]\\d+[+\\-]?)'\n",
    "HASHTAG = r\"\"\"(?:\\#+[\\w_]+[\\w\\'_\\-]*[\\w_]+)\"\"\"\n",
    "HANDLES = r\"\"\"(?:@[\\w_]+)\"\"\" \n",
    "\n",
    "\n",
    "TO_REPLACE = [CASHTAG,EMAIL,MONEY,SPECIAL_NUMBERS,HASHTAG,HANDLES]\n",
    "REPLACE_WITH = ['<stock>','<email>','<money>','<number>','<hashtag>','<username>']\n",
    "\n",
    "# tweets_df['tweet'].replace(TO_REPLACE,REPLACE_WITH,regex=True,inplace=True)\n",
    "\n",
    "def replace_links(sentence: str):\n",
    "        result = parser.parse(sentence, html=False)\n",
    "        urls = dict(result.urls).keys()\n",
    "        for url in urls:\n",
    "                sentence = sentence.replace(url,'<url>')\n",
    "        return sentence \n",
    "\n",
    "def replace_emoticons(sentence : str):\n",
    "        emoticons = emot_obj.emoticons(sentence)\n",
    "        for emoticon in emoticons['value']:\n",
    "                sentence = sentence.replace(emoticon,'<emoticon>')\n",
    "                \n",
    "        return sentence\n",
    "\n",
    "def last_process(sentence : str):\n",
    "        sentence = emoji.replace_emoji(sentence,'<emoji>')\n",
    "        sentence = tk.tokenize(sentence)\n",
    "        \n",
    "\n",
    "# tweets_df['tweet'] = tweets_df['tweet'].apply(replace_links)\n",
    "# tweets_df['tweet'] = tweets_df['tweet'].apply(last_process)\n"
   ]
  },
  {
   "cell_type": "code",
   "execution_count": null,
   "metadata": {},
   "outputs": [],
   "source": [
    "tweets_df2 = tweets_df.copy(deep=True)"
   ]
  },
  {
   "cell_type": "code",
   "execution_count": null,
   "metadata": {},
   "outputs": [],
   "source": [
    "tweets_df2['tweet'] = tweets_df2['tweet'].apply(replace_links)\n",
    "tweets_df2['tweet'] = tweets_df2['tweet'].apply(replace_emoticons)"
   ]
  },
  {
   "cell_type": "code",
   "execution_count": null,
   "metadata": {},
   "outputs": [],
   "source": [
    "print(tweets_df.loc[962,'tweet'])\n",
    "print(tweets_df2.loc[962,'tweet'])"
   ]
  },
  {
   "cell_type": "code",
   "execution_count": null,
   "metadata": {},
   "outputs": [],
   "source": [
    "from ttp import ttp \n",
    "parser = ttp.Parser(include_spans=True)\n",
    "\n",
    "t : str = tweets_df.loc[1, 'tweet']\n",
    "t\n",
    "\n",
    "result = parser.parse(t, html=False)\n",
    "spans = dict(result.urls).keys()\n",
    "spans\n",
    "for span in spans:\n",
    "    t = t.replace(span,'<url>')\n",
    "\n",
    "t\n",
    "sentence = tk.tokenize(t)\n",
    "print(sentence)"
   ]
  },
  {
   "cell_type": "code",
   "execution_count": null,
   "metadata": {},
   "outputs": [],
   "source": [
    "from emot.core import emot\n",
    "emot_obj = emot()\n",
    "\n",
    "emoticons = emot_obj.emoticons(tweets_df.loc[1,'tweet'])\n",
    "for emoticon in emoticons['value']:\n",
    "    print(emoticon)"
   ]
  },
  {
   "cell_type": "code",
   "execution_count": null,
   "metadata": {},
   "outputs": [],
   "source": [
    "prova = tweets_df['tweet'].replace([MONEY,NUMBER],['<MONEY>','<NUMBER>'],regex=True)"
   ]
  },
  {
   "cell_type": "code",
   "execution_count": null,
   "metadata": {},
   "outputs": [],
   "source": [
    "df2 = tweets_df[tweets_df['tweet'].str.contains(':\\)', regex=True)]\n",
    "df2\n",
    "\n",
    "\n",
    "\n",
    "l = [':\\)','\\(:',':-\\)','\\s:\\^\\)\\s','\\s=\\]\\s','\\s:-\\(\\s','\\s:\\(\\s','\\s:\\(\\s','\\^_\\^','\\s:\\'\\(\\s','\\s:-D\\s',]"
   ]
  },
  {
   "cell_type": "code",
   "execution_count": null,
   "metadata": {},
   "outputs": [],
   "source": [
    "print(tweets_df.loc[962,'tweet'])\n",
    "print(prova.loc[1999693])\n",
    "\n",
    "\n"
   ]
  },
  {
   "cell_type": "code",
   "execution_count": null,
   "metadata": {},
   "outputs": [],
   "source": [
    "import emoji\n",
    "s = emoji.replace_emoji(tweets_df.loc[1998135,'tweet'],'<EMOJI>')\n",
    "s"
   ]
  },
  {
   "cell_type": "code",
   "execution_count": null,
   "metadata": {},
   "outputs": [],
   "source": [
    "from emot.core import emot\n",
    "emot_obj = emot()\n",
    "\n",
    "emoticons = emot_obj.bulk_emoticons(tweets_df.tweet.to_list())\n",
    "emoji = emot_obj.bulk_emoji(tweets_df.tweet.to_list())\n"
   ]
  },
  {
   "cell_type": "code",
   "execution_count": null,
   "metadata": {},
   "outputs": [],
   "source": [
    "emoticons[1999110]\n",
    "emoji[1999110]"
   ]
  },
  {
   "cell_type": "code",
   "execution_count": null,
   "metadata": {},
   "outputs": [],
   "source": [
    "import gensim\n",
    "import gensim.downloader as gloader\n",
    "from gensim.models import KeyedVectors\n",
    "\n",
    "glove_model_cached_path = DATA_FOLDER / 'glove_vectors.txt'\n",
    "glove_model_download_path = 'glove-twitter-200'\n",
    "\n",
    "def load_glove_emb(force_download = False):   \n",
    "    \"\"\"\n",
    "        Download the glove embedding model and returns it \n",
    "    \"\"\"\n",
    "    emb_model = None\n",
    "\n",
    "    if os.path.exists(glove_model_cached_path) and not force_download: \n",
    "        print('found cached glove vectors in data folder, retrieving the file...')\n",
    "        emb_model = KeyedVectors.load_word2vec_format(glove_model_cached_path, binary=True)\n",
    "        print('vectors loaded')\n",
    "\n",
    "    else:\n",
    "        print('downloading glove embeddings...')        \n",
    "        emb_model = gloader.load(glove_model_download_path)\n",
    "\n",
    "        print('saving glove embeddings to file')  \n",
    "        emb_model.save_word2vec_format(glove_model_cached_path, binary=True)\n",
    "        \n",
    "    return emb_model\n",
    "\n",
    "force_download = False      # to download glove model even if the vectors model has been already stored. Mainly for testing purposes\n",
    "\n",
    "glove_embeddings = load_glove_emb(force_download)"
   ]
  },
  {
   "cell_type": "code",
   "execution_count": null,
   "metadata": {},
   "outputs": [],
   "source": [
    "glove_embeddings.most_similar(\"stock\")"
   ]
  },
  {
   "cell_type": "code",
   "execution_count": null,
   "metadata": {},
   "outputs": [],
   "source": [
    "tweets_df.iloc[369].tweet\n"
   ]
  },
  {
   "cell_type": "code",
   "execution_count": null,
   "metadata": {},
   "outputs": [],
   "source": [
    "import nltk\n",
    "import emoji\n",
    "from nltk.stem import WordNetLemmatizer, PorterStemmer\n",
    "from nltk.corpus import stopwords\n",
    "import string \n",
    "\n",
    "nltk.download('wordnet', quiet=True) \n",
    "nltk.download('stopwords', quiet=True)\n",
    "nltk.download('punkt', quiet=True)\n",
    "\n",
    "def preprocess_pipeline(sentence:str):\n",
    "    \"\"\"Apply standard preprocessing\"\"\"\n",
    "\n",
    "    #put everything to lowercase\n",
    "    sentence = sentence.lower()\n",
    "\n",
    "    #remove all unnecessary spaces and return a list of words\n",
    "    sentence = sentence.split()\n",
    "\n",
    "    return sentence\n",
    "\n",
    "def preprocess_type3(sentence:str):\n",
    "    \"\"\"Lower, split, url to 'uuuuu', account to 'ttttt', hashtag to 'ggggg', emoji to 'eeeee', translate to UNICODE, no punctuation\"\"\"\n",
    "\n",
    "    sentence = preprocess_pipeline(sentence)\n",
    "\n",
    "    #replace url link string with 'uuuuu'\n",
    "    sentence = ['uuuuu' if 'http' in word else word for word in sentence]\n",
    "\n",
    "    #replace account link string with 'ttttt'\n",
    "    sentence = ['ttttt' if '@' in word else word for word in sentence]\n",
    "\n",
    "    #replace hashtag with 'ggggg'\n",
    "    sentence = ['ggggg' if '#' in word else word for word in sentence]\n",
    "\n",
    "    #replace emoticons with 'eeeee'\n",
    "    sentence = ['eeeee' if emoji.is_emoji(word) else word for word in sentence]\n",
    "    \n",
    "    #transliterates any UNICODE string into the closest possible representation in ASCII text\n",
    "    # sentence = [unidecode.unidecode(word) for word in sentence]\n",
    "\n",
    "    #remove all punctuation\n",
    "    sentence = [word.translate(str.maketrans(dict.fromkeys(string.punctuation,''))) for word in sentence]\n",
    "\n",
    "    #if a word has one non-ASCII character: remove\n",
    "    sentence = [word for word in sentence if word.isascii()]\n",
    "\n",
    "    sentence = [word for word in sentence if word != '']\n",
    "\n",
    "    return sentence\n",
    "\n",
    "from nltk.tokenize import TweetTokenizer\n",
    "\n",
    "tk = TweetTokenizer(reduce_len=True,preserve_case=False)"
   ]
  },
  {
   "cell_type": "code",
   "execution_count": null,
   "metadata": {},
   "outputs": [],
   "source": [
    "print(f\"Processed tweet with twTk:\\n{tk.tokenize('<unk> good')}\")\n",
    "\n",
    "emoji. is_emoji(':)')\n"
   ]
  },
  {
   "cell_type": "code",
   "execution_count": null,
   "metadata": {},
   "outputs": [],
   "source": [
    "\n",
    "from nltk.tokenize import TweetTokenizer\n",
    "\n",
    "tk = TweetTokenizer(reduce_len=True,preserve_case=False)\n",
    "\n",
    "tweet = tweets_df.loc[602396, 'tweet']   #1239\n",
    "print(f\"Original tweet:\\n{tweet}\")\n",
    "print(f\"Processed tweet with twTk:\\n{tk.tokenize(tweet)}\")\n",
    "print(f\"Processed tweet with type3:\\n{preprocess_type3(tweet)}\")\n",
    "\n"
   ]
  }
 ],
 "metadata": {
  "kernelspec": {
   "display_name": "Python 3.10.4 ('twebot')",
   "language": "python",
   "name": "python3"
  },
  "language_info": {
   "codemirror_mode": {
    "name": "ipython",
    "version": 3
   },
   "file_extension": ".py",
   "mimetype": "text/x-python",
   "name": "python",
   "nbconvert_exporter": "python",
   "pygments_lexer": "ipython3",
   "version": "3.10.4"
  },
  "orig_nbformat": 4,
  "vscode": {
   "interpreter": {
    "hash": "4e66f267e62df30a19496c87edf4ee02f643c0c674deb1d9d6ade2624584bc1e"
   }
  }
 },
 "nbformat": 4,
 "nbformat_minor": 2
}
