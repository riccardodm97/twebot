{
  "cells": [
    {
      "cell_type": "markdown",
      "metadata": {
        "id": "5m9DmYrW_lYU"
      },
      "source": [
        "# Initial setup"
      ]
    },
    {
      "cell_type": "code",
      "source": [
        "!nvidia-smi -L"
      ],
      "metadata": {
        "colab": {
          "base_uri": "https://localhost:8080/"
        },
        "id": "hWmhhU28ZLc8",
        "outputId": "b6583b13-d02f-44fa-d2dd-910ff1053d47"
      },
      "execution_count": 1,
      "outputs": [
        {
          "output_type": "stream",
          "name": "stdout",
          "text": [
            "GPU 0: Tesla T4 (UUID: GPU-92cc8bb1-e289-cd13-101c-631593274010)\n"
          ]
        }
      ]
    },
    {
      "cell_type": "code",
      "execution_count": 2,
      "metadata": {
        "id": "4-agHw_J_lYW"
      },
      "outputs": [],
      "source": [
        "# to print all output for a cell instead of only last one \n",
        "from IPython.core.interactiveshell import InteractiveShell\n",
        "InteractiveShell.ast_node_interactivity = 'all'"
      ]
    },
    {
      "cell_type": "code",
      "execution_count": 3,
      "metadata": {
        "id": "B8ee9vSC_lYZ"
      },
      "outputs": [],
      "source": [
        "#import all libraries and modules \n",
        "\n",
        "import os\n",
        "\n",
        "import requests\n",
        "import zipfile\n",
        "import random\n",
        "import string \n",
        "\n",
        "import torch\n",
        "\n",
        "import numpy as np\n",
        "import pandas as pd\n",
        "\n",
        "import gensim\n",
        "import gensim.downloader as gloader\n",
        "from gensim.models import KeyedVectors\n",
        "\n",
        "import time \n",
        "import logging\n",
        "import tqdm\n",
        "\n",
        "from collections import OrderedDict, namedtuple\n",
        "\n",
        "import json\n",
        "from pandas import json_normalize\n",
        "\t\n",
        "import pandas as pd\n",
        "import numpy as np\n",
        "\n",
        "import matplotlib.pyplot as plt"
      ]
    },
    {
      "cell_type": "code",
      "execution_count": 4,
      "metadata": {
        "colab": {
          "base_uri": "https://localhost:8080/"
        },
        "id": "EOfQaTdU_lYa",
        "outputId": "21e90e8e-4024-4f30-e7be-07796271d2ca"
      },
      "outputs": [
        {
          "output_type": "stream",
          "name": "stdout",
          "text": [
            "Current work directory: /content\n"
          ]
        }
      ],
      "source": [
        "print(\"Current work directory: {}\".format(os.getcwd())) #print the current working directory \n",
        "\n",
        "data_folder = os.path.join(os.getcwd(),\"data\") # directory containing the notebook\n",
        "\n",
        "if not os.path.exists(data_folder):   #create folder where all data will be stored \n",
        "    os.makedirs(data_folder)"
      ]
    },
    {
      "cell_type": "code",
      "execution_count": 5,
      "metadata": {
        "colab": {
          "base_uri": "https://localhost:8080/"
        },
        "id": "4NPFz1H8_lYb",
        "outputId": "3c211a29-1ff9-444c-c9a9-e7c8600036a3"
      },
      "outputs": [
        {
          "output_type": "execute_result",
          "data": {
            "text/plain": [
              "<torch._C.Generator at 0x7f7a09f19150>"
            ]
          },
          "metadata": {},
          "execution_count": 5
        }
      ],
      "source": [
        "# Fix data seed to achieve reproducible results\n",
        "torch.manual_seed(0)\n",
        "random.seed(0)\n",
        "np.random.seed(0)\n",
        "torch.backends.cudnn.benchmark = False\n",
        "torch.backends.cudnn.deterministic = True\n",
        "\n",
        "#setup logging \n",
        "log = logging.getLogger('logger')\n",
        "log.setLevel(logging.DEBUG)\n",
        "fh = logging.FileHandler('data/log.txt')\n",
        "fh.setLevel(logging.DEBUG)\n",
        "log.addHandler(fh)"
      ]
    },
    {
      "cell_type": "code",
      "execution_count": 6,
      "metadata": {
        "id": "xf_u1-Gc_lYd"
      },
      "outputs": [],
      "source": [
        "json_file_path_train = \"data/train.json\"\n",
        "json_file_path_val = \"data/dev.json\"\n",
        "json_file_path_test = \"data/test.json\"\n",
        "\n",
        "with open(json_file_path_train, 'r') as tr:\n",
        "     contents = json.loads(tr.read())\n",
        "     train = json_normalize(contents)\n",
        "\n",
        "with open(json_file_path_val, 'r') as vl:\n",
        "     contents = json.loads(vl.read())\n",
        "     val = json_normalize(contents) \n",
        "\n",
        "with open(json_file_path_test, 'r') as ts:\n",
        "     contents = json.loads(ts.read())\n",
        "     test = json_normalize(contents) "
      ]
    },
    {
      "cell_type": "markdown",
      "metadata": {
        "id": "m9ypICZW_lYd"
      },
      "source": [
        "# Dataset inspection"
      ]
    },
    {
      "cell_type": "code",
      "execution_count": 7,
      "metadata": {
        "colab": {
          "base_uri": "https://localhost:8080/",
          "height": 375
        },
        "id": "CThyHvwv_lYe",
        "outputId": "0f8d4d9d-6f6d-4755-adbb-154702b30cf0"
      },
      "outputs": [
        {
          "output_type": "execute_result",
          "data": {
            "text/plain": [
              "                    ID                                              tweet  \\\n",
              "0             17461978  [RT @CarnivalCruise: 🎉 Are you ready to see wh...   \n",
              "1  1297437077403885568                                               None   \n",
              "2             17685258  [RT @realDonaldTrump: THANK YOU #RNC2020! http...   \n",
              "\n",
              "   neighbor                               domain label            profile.id  \\\n",
              "0       NaN  [Politics, Business, Entertainment]     0             17461978    \n",
              "1       NaN                           [Politics]     1  1297437077403885568    \n",
              "2       NaN    [Politics, Entertainment, Sports]     0             17685258    \n",
              "\n",
              "         profile.id_str       profile.name profile.screen_name  \\\n",
              "0             17461978               SHAQ                SHAQ    \n",
              "1  1297437077403885568   Jennifer Fishpaw     JenniferFishpaw    \n",
              "2             17685258      Brad Parscale            parscale    \n",
              "\n",
              "  profile.location  ... profile.profile_link_color  \\\n",
              "0     Orlando, FL   ...                    2FC2EF    \n",
              "1                   ...                    1DA1F2    \n",
              "2         Florida   ...                    AB2316    \n",
              "\n",
              "  profile.profile_sidebar_border_color profile.profile_sidebar_fill_color  \\\n",
              "0                              181A1E                             252429    \n",
              "1                              C0DEED                             DDEEF6    \n",
              "2                              FFFFFF                             FFFFFF    \n",
              "\n",
              "  profile.profile_text_color profile.profile_use_background_image  \\\n",
              "0                    666666                                 True    \n",
              "1                    333333                                 True    \n",
              "2                    666666                                False    \n",
              "\n",
              "  profile.has_extended_profile profile.default_profile  \\\n",
              "0                       False                   False    \n",
              "1                        True                    True    \n",
              "2                       False                   False    \n",
              "\n",
              "  profile.default_profile_image  \\\n",
              "0                        False    \n",
              "1                        False    \n",
              "2                        False    \n",
              "\n",
              "                                  neighbor.following  \\\n",
              "0                                                NaN   \n",
              "1  [170861207, 23970102, 47293791, 29458079, 1799...   \n",
              "2  [46464108, 21536398, 18643437, 589490020, 1363...   \n",
              "\n",
              "                                   neighbor.follower  \n",
              "0                                                NaN  \n",
              "1                                                 []  \n",
              "2  [1275068515666386945, 2535843469, 129365759103...  \n",
              "\n",
              "[3 rows x 45 columns]"
            ],
            "text/html": [
              "\n",
              "  <div id=\"df-2b6b9814-0ab8-4bef-a3bb-33d1259806d8\">\n",
              "    <div class=\"colab-df-container\">\n",
              "      <div>\n",
              "<style scoped>\n",
              "    .dataframe tbody tr th:only-of-type {\n",
              "        vertical-align: middle;\n",
              "    }\n",
              "\n",
              "    .dataframe tbody tr th {\n",
              "        vertical-align: top;\n",
              "    }\n",
              "\n",
              "    .dataframe thead th {\n",
              "        text-align: right;\n",
              "    }\n",
              "</style>\n",
              "<table border=\"1\" class=\"dataframe\">\n",
              "  <thead>\n",
              "    <tr style=\"text-align: right;\">\n",
              "      <th></th>\n",
              "      <th>ID</th>\n",
              "      <th>tweet</th>\n",
              "      <th>neighbor</th>\n",
              "      <th>domain</th>\n",
              "      <th>label</th>\n",
              "      <th>profile.id</th>\n",
              "      <th>profile.id_str</th>\n",
              "      <th>profile.name</th>\n",
              "      <th>profile.screen_name</th>\n",
              "      <th>profile.location</th>\n",
              "      <th>...</th>\n",
              "      <th>profile.profile_link_color</th>\n",
              "      <th>profile.profile_sidebar_border_color</th>\n",
              "      <th>profile.profile_sidebar_fill_color</th>\n",
              "      <th>profile.profile_text_color</th>\n",
              "      <th>profile.profile_use_background_image</th>\n",
              "      <th>profile.has_extended_profile</th>\n",
              "      <th>profile.default_profile</th>\n",
              "      <th>profile.default_profile_image</th>\n",
              "      <th>neighbor.following</th>\n",
              "      <th>neighbor.follower</th>\n",
              "    </tr>\n",
              "  </thead>\n",
              "  <tbody>\n",
              "    <tr>\n",
              "      <th>0</th>\n",
              "      <td>17461978</td>\n",
              "      <td>[RT @CarnivalCruise: 🎉 Are you ready to see wh...</td>\n",
              "      <td>NaN</td>\n",
              "      <td>[Politics, Business, Entertainment]</td>\n",
              "      <td>0</td>\n",
              "      <td>17461978</td>\n",
              "      <td>17461978</td>\n",
              "      <td>SHAQ</td>\n",
              "      <td>SHAQ</td>\n",
              "      <td>Orlando, FL</td>\n",
              "      <td>...</td>\n",
              "      <td>2FC2EF</td>\n",
              "      <td>181A1E</td>\n",
              "      <td>252429</td>\n",
              "      <td>666666</td>\n",
              "      <td>True</td>\n",
              "      <td>False</td>\n",
              "      <td>False</td>\n",
              "      <td>False</td>\n",
              "      <td>NaN</td>\n",
              "      <td>NaN</td>\n",
              "    </tr>\n",
              "    <tr>\n",
              "      <th>1</th>\n",
              "      <td>1297437077403885568</td>\n",
              "      <td>None</td>\n",
              "      <td>NaN</td>\n",
              "      <td>[Politics]</td>\n",
              "      <td>1</td>\n",
              "      <td>1297437077403885568</td>\n",
              "      <td>1297437077403885568</td>\n",
              "      <td>Jennifer Fishpaw</td>\n",
              "      <td>JenniferFishpaw</td>\n",
              "      <td></td>\n",
              "      <td>...</td>\n",
              "      <td>1DA1F2</td>\n",
              "      <td>C0DEED</td>\n",
              "      <td>DDEEF6</td>\n",
              "      <td>333333</td>\n",
              "      <td>True</td>\n",
              "      <td>True</td>\n",
              "      <td>True</td>\n",
              "      <td>False</td>\n",
              "      <td>[170861207, 23970102, 47293791, 29458079, 1799...</td>\n",
              "      <td>[]</td>\n",
              "    </tr>\n",
              "    <tr>\n",
              "      <th>2</th>\n",
              "      <td>17685258</td>\n",
              "      <td>[RT @realDonaldTrump: THANK YOU #RNC2020! http...</td>\n",
              "      <td>NaN</td>\n",
              "      <td>[Politics, Entertainment, Sports]</td>\n",
              "      <td>0</td>\n",
              "      <td>17685258</td>\n",
              "      <td>17685258</td>\n",
              "      <td>Brad Parscale</td>\n",
              "      <td>parscale</td>\n",
              "      <td>Florida</td>\n",
              "      <td>...</td>\n",
              "      <td>AB2316</td>\n",
              "      <td>FFFFFF</td>\n",
              "      <td>FFFFFF</td>\n",
              "      <td>666666</td>\n",
              "      <td>False</td>\n",
              "      <td>False</td>\n",
              "      <td>False</td>\n",
              "      <td>False</td>\n",
              "      <td>[46464108, 21536398, 18643437, 589490020, 1363...</td>\n",
              "      <td>[1275068515666386945, 2535843469, 129365759103...</td>\n",
              "    </tr>\n",
              "  </tbody>\n",
              "</table>\n",
              "<p>3 rows × 45 columns</p>\n",
              "</div>\n",
              "      <button class=\"colab-df-convert\" onclick=\"convertToInteractive('df-2b6b9814-0ab8-4bef-a3bb-33d1259806d8')\"\n",
              "              title=\"Convert this dataframe to an interactive table.\"\n",
              "              style=\"display:none;\">\n",
              "        \n",
              "  <svg xmlns=\"http://www.w3.org/2000/svg\" height=\"24px\"viewBox=\"0 0 24 24\"\n",
              "       width=\"24px\">\n",
              "    <path d=\"M0 0h24v24H0V0z\" fill=\"none\"/>\n",
              "    <path d=\"M18.56 5.44l.94 2.06.94-2.06 2.06-.94-2.06-.94-.94-2.06-.94 2.06-2.06.94zm-11 1L8.5 8.5l.94-2.06 2.06-.94-2.06-.94L8.5 2.5l-.94 2.06-2.06.94zm10 10l.94 2.06.94-2.06 2.06-.94-2.06-.94-.94-2.06-.94 2.06-2.06.94z\"/><path d=\"M17.41 7.96l-1.37-1.37c-.4-.4-.92-.59-1.43-.59-.52 0-1.04.2-1.43.59L10.3 9.45l-7.72 7.72c-.78.78-.78 2.05 0 2.83L4 21.41c.39.39.9.59 1.41.59.51 0 1.02-.2 1.41-.59l7.78-7.78 2.81-2.81c.8-.78.8-2.07 0-2.86zM5.41 20L4 18.59l7.72-7.72 1.47 1.35L5.41 20z\"/>\n",
              "  </svg>\n",
              "      </button>\n",
              "      \n",
              "  <style>\n",
              "    .colab-df-container {\n",
              "      display:flex;\n",
              "      flex-wrap:wrap;\n",
              "      gap: 12px;\n",
              "    }\n",
              "\n",
              "    .colab-df-convert {\n",
              "      background-color: #E8F0FE;\n",
              "      border: none;\n",
              "      border-radius: 50%;\n",
              "      cursor: pointer;\n",
              "      display: none;\n",
              "      fill: #1967D2;\n",
              "      height: 32px;\n",
              "      padding: 0 0 0 0;\n",
              "      width: 32px;\n",
              "    }\n",
              "\n",
              "    .colab-df-convert:hover {\n",
              "      background-color: #E2EBFA;\n",
              "      box-shadow: 0px 1px 2px rgba(60, 64, 67, 0.3), 0px 1px 3px 1px rgba(60, 64, 67, 0.15);\n",
              "      fill: #174EA6;\n",
              "    }\n",
              "\n",
              "    [theme=dark] .colab-df-convert {\n",
              "      background-color: #3B4455;\n",
              "      fill: #D2E3FC;\n",
              "    }\n",
              "\n",
              "    [theme=dark] .colab-df-convert:hover {\n",
              "      background-color: #434B5C;\n",
              "      box-shadow: 0px 1px 3px 1px rgba(0, 0, 0, 0.15);\n",
              "      filter: drop-shadow(0px 1px 2px rgba(0, 0, 0, 0.3));\n",
              "      fill: #FFFFFF;\n",
              "    }\n",
              "  </style>\n",
              "\n",
              "      <script>\n",
              "        const buttonEl =\n",
              "          document.querySelector('#df-2b6b9814-0ab8-4bef-a3bb-33d1259806d8 button.colab-df-convert');\n",
              "        buttonEl.style.display =\n",
              "          google.colab.kernel.accessAllowed ? 'block' : 'none';\n",
              "\n",
              "        async function convertToInteractive(key) {\n",
              "          const element = document.querySelector('#df-2b6b9814-0ab8-4bef-a3bb-33d1259806d8');\n",
              "          const dataTable =\n",
              "            await google.colab.kernel.invokeFunction('convertToInteractive',\n",
              "                                                     [key], {});\n",
              "          if (!dataTable) return;\n",
              "\n",
              "          const docLinkHtml = 'Like what you see? Visit the ' +\n",
              "            '<a target=\"_blank\" href=https://colab.research.google.com/notebooks/data_table.ipynb>data table notebook</a>'\n",
              "            + ' to learn more about interactive tables.';\n",
              "          element.innerHTML = '';\n",
              "          dataTable['output_type'] = 'display_data';\n",
              "          await google.colab.output.renderOutput(dataTable, element);\n",
              "          const docLink = document.createElement('div');\n",
              "          docLink.innerHTML = docLinkHtml;\n",
              "          element.appendChild(docLink);\n",
              "        }\n",
              "      </script>\n",
              "    </div>\n",
              "  </div>\n",
              "  "
            ]
          },
          "metadata": {},
          "execution_count": 7
        }
      ],
      "source": [
        "train = train[:4000]\n",
        "val = val[:2000]\n",
        "test = test[:500]\n",
        "\n",
        "train.head(3)"
      ]
    },
    {
      "cell_type": "code",
      "execution_count": 8,
      "metadata": {
        "colab": {
          "base_uri": "https://localhost:8080/"
        },
        "id": "C3h0Q3Dt_lYf",
        "outputId": "fa70115e-8f49-495c-cf64-75d2da7c0ecb"
      },
      "outputs": [
        {
          "output_type": "stream",
          "name": "stdout",
          "text": [
            "Training set size: 4000\n",
            "Validation set size: 2000\n",
            "Test set size: 500\n"
          ]
        }
      ],
      "source": [
        "print(f\"Training set size: {len(train)}\")\n",
        "print(f\"Validation set size: {len(val)}\")\n",
        "print(f\"Test set size: {len(test)}\")"
      ]
    },
    {
      "cell_type": "code",
      "execution_count": 9,
      "metadata": {
        "colab": {
          "base_uri": "https://localhost:8080/"
        },
        "id": "MGP8aJyS_lYh",
        "outputId": "b1a25f48-c430-46e9-d026-c38f95ce0bd0"
      },
      "outputs": [
        {
          "output_type": "stream",
          "name": "stdout",
          "text": [
            "N° of features per account: 45\n",
            "Features:\n",
            "['ID', 'tweet', 'neighbor', 'domain', 'label', 'profile.id', 'profile.id_str', 'profile.name', 'profile.screen_name', 'profile.location', 'profile.profile_location', 'profile.description', 'profile.url', 'profile.entities', 'profile.protected', 'profile.followers_count', 'profile.friends_count', 'profile.listed_count', 'profile.created_at', 'profile.favourites_count', 'profile.utc_offset', 'profile.time_zone', 'profile.geo_enabled', 'profile.verified', 'profile.statuses_count', 'profile.lang', 'profile.contributors_enabled', 'profile.is_translator', 'profile.is_translation_enabled', 'profile.profile_background_color', 'profile.profile_background_image_url', 'profile.profile_background_image_url_https', 'profile.profile_background_tile', 'profile.profile_image_url', 'profile.profile_image_url_https', 'profile.profile_link_color', 'profile.profile_sidebar_border_color', 'profile.profile_sidebar_fill_color', 'profile.profile_text_color', 'profile.profile_use_background_image', 'profile.has_extended_profile', 'profile.default_profile', 'profile.default_profile_image', 'neighbor.following', 'neighbor.follower']\n"
          ]
        }
      ],
      "source": [
        "print(f\"N° of features per account: {len(train.columns)}\")\n",
        "print(f\"Features:\\n{list(train.columns)}\") #TODO: rimuovere tutto ciò che è prima del punto e rinominare le colonne?"
      ]
    },
    {
      "cell_type": "code",
      "execution_count": 10,
      "metadata": {
        "colab": {
          "base_uri": "https://localhost:8080/"
        },
        "id": "63lrfTrq_lYj",
        "outputId": "47a1ca18-8d06-4c40-e0e4-c3d820c5068c"
      },
      "outputs": [
        {
          "output_type": "stream",
          "name": "stdout",
          "text": [
            "N° of accounts without tweets: 34\n",
            "N° of tweets per account analytics:\n",
            "count    3966.000000\n",
            "mean      170.911750\n",
            "std        62.201307\n",
            "min         1.000000\n",
            "25%       196.000000\n",
            "50%       200.000000\n",
            "75%       200.000000\n",
            "max       200.000000\n",
            "Name: tweet, dtype: float64\n"
          ]
        }
      ],
      "source": [
        "print(f\"N° of accounts without tweets: {train['tweet'].isna().sum()}\")\n",
        "print(f\"N° of tweets per account analytics:\\n{np.round(train['tweet'].dropna().apply(len)).describe()}\")\n"
      ]
    },
    {
      "cell_type": "markdown",
      "metadata": {
        "id": "sjcxSSBm_lYj"
      },
      "source": [
        "# Tweets preprocessing"
      ]
    },
    {
      "cell_type": "code",
      "source": [
        "!pip install Unidecode\n",
        "!pip install emoji\n",
        "!pip install torchtext==0.6.0"
      ],
      "metadata": {
        "colab": {
          "base_uri": "https://localhost:8080/"
        },
        "id": "btEafUS-Gfo-",
        "outputId": "b090302d-e3c1-47ba-84cd-57ca370ec555"
      },
      "execution_count": 11,
      "outputs": [
        {
          "output_type": "stream",
          "name": "stdout",
          "text": [
            "Looking in indexes: https://pypi.org/simple, https://us-python.pkg.dev/colab-wheels/public/simple/\n",
            "Requirement already satisfied: Unidecode in /usr/local/lib/python3.7/dist-packages (1.3.4)\n",
            "Looking in indexes: https://pypi.org/simple, https://us-python.pkg.dev/colab-wheels/public/simple/\n",
            "Requirement already satisfied: emoji in /usr/local/lib/python3.7/dist-packages (2.0.0)\n",
            "Looking in indexes: https://pypi.org/simple, https://us-python.pkg.dev/colab-wheels/public/simple/\n",
            "Requirement already satisfied: torchtext==0.6.0 in /usr/local/lib/python3.7/dist-packages (0.6.0)\n",
            "Requirement already satisfied: torch in /usr/local/lib/python3.7/dist-packages (from torchtext==0.6.0) (1.12.1+cu113)\n",
            "Requirement already satisfied: tqdm in /usr/local/lib/python3.7/dist-packages (from torchtext==0.6.0) (4.64.0)\n",
            "Requirement already satisfied: six in /usr/local/lib/python3.7/dist-packages (from torchtext==0.6.0) (1.15.0)\n",
            "Requirement already satisfied: numpy in /usr/local/lib/python3.7/dist-packages (from torchtext==0.6.0) (1.21.6)\n",
            "Requirement already satisfied: sentencepiece in /usr/local/lib/python3.7/dist-packages (from torchtext==0.6.0) (0.1.97)\n",
            "Requirement already satisfied: requests in /usr/local/lib/python3.7/dist-packages (from torchtext==0.6.0) (2.23.0)\n",
            "Requirement already satisfied: certifi>=2017.4.17 in /usr/local/lib/python3.7/dist-packages (from requests->torchtext==0.6.0) (2022.6.15)\n",
            "Requirement already satisfied: urllib3!=1.25.0,!=1.25.1,<1.26,>=1.21.1 in /usr/local/lib/python3.7/dist-packages (from requests->torchtext==0.6.0) (1.24.3)\n",
            "Requirement already satisfied: idna<3,>=2.5 in /usr/local/lib/python3.7/dist-packages (from requests->torchtext==0.6.0) (2.10)\n",
            "Requirement already satisfied: chardet<4,>=3.0.2 in /usr/local/lib/python3.7/dist-packages (from requests->torchtext==0.6.0) (3.0.4)\n",
            "Requirement already satisfied: typing-extensions in /usr/local/lib/python3.7/dist-packages (from torch->torchtext==0.6.0) (4.1.1)\n"
          ]
        }
      ]
    },
    {
      "cell_type": "code",
      "execution_count": 12,
      "metadata": {
        "colab": {
          "base_uri": "https://localhost:8080/"
        },
        "id": "SReZjf1w_lYk",
        "outputId": "c4bda341-c28b-49ca-d013-68119e3f8f9a"
      },
      "outputs": [
        {
          "output_type": "execute_result",
          "data": {
            "text/plain": [
              "True"
            ]
          },
          "metadata": {},
          "execution_count": 12
        },
        {
          "output_type": "execute_result",
          "data": {
            "text/plain": [
              "True"
            ]
          },
          "metadata": {},
          "execution_count": 12
        },
        {
          "output_type": "execute_result",
          "data": {
            "text/plain": [
              "True"
            ]
          },
          "metadata": {},
          "execution_count": 12
        }
      ],
      "source": [
        "import unidecode\n",
        "import nltk\n",
        "import emoji\n",
        "from nltk.stem import WordNetLemmatizer, PorterStemmer\n",
        "from nltk.corpus import stopwords\n",
        "\n",
        "nltk.download('wordnet', quiet=True) \n",
        "nltk.download('stopwords', quiet=True)\n",
        "nltk.download('punkt', quiet=True)\n",
        "\n",
        "def lemmatize_and_remove_non_ascii(sentence:str):\n",
        "    \"\"\"Remove unnecessary spaces, remove words with non ASCII characters and lemmatize\"\"\"\n",
        "    lemmatizer = WordNetLemmatizer()\n",
        "    sentence = [lemmatizer.lemmatize(word) for word in sentence if word.isascii()] #if a word has all ASCII characters: lemmatize, else: remove\n",
        "    return sentence\n",
        "\n",
        "def stemm_and_remove_non_ascii(sentence: str):\n",
        "    ps = PorterStemmer()\n",
        "    sentence = [ps.stem(word) for word in sentence if word.isascii()]#if a word has all ASCII characters: stemm, else: remove\n",
        "    return sentence\n",
        "\n",
        "def preprocess_pipeline(sentence:str):\n",
        "    \"\"\"Apply standard preprocessing\"\"\"\n",
        "\n",
        "    #put everything to lowercase\n",
        "    sentence = sentence.lower()\n",
        "\n",
        "    #remove all unnecessary spaces and return a list of words\n",
        "    sentence = sentence.split()\n",
        "\n",
        "    return sentence\n",
        "\n",
        "def preprocess_type1(sentence:str):\n",
        "    \"\"\"Apply standard preprocessing and return a list of words\"\"\"\n",
        "\n",
        "    sentence = preprocess_pipeline(sentence)\n",
        "\n",
        "    #TODO: decidere con cosa sostituire i caratteri speciali (@, link, RT, emoticons...)\n",
        "    #replace link string with 'https'\n",
        "    sentence = ['https' if 'http' in word else word for word in sentence]\n",
        "\n",
        "    #remove emoticons\n",
        "    sentence = [word for word in sentence if not emoji.is_emoji(word)]\n",
        "\n",
        "    #remove all punctuation\n",
        "    sentence = [word.translate(str.maketrans(dict.fromkeys(string.punctuation,''))) for word in sentence]\n",
        "\n",
        "    return sentence\n",
        "\n",
        "def preprocess_type2(sentence:str):\n",
        "    \"\"\"Apply standard preprocessing and return a list of words\"\"\"\n",
        "\n",
        "    sentence = preprocess_pipeline(sentence)\n",
        "\n",
        "    #TODO: decidere con cosa sostituire i caratteri speciali (@, link, RT, emoticons...)\n",
        "    #replace link string with 'https'\n",
        "    sentence = ['https' if 'http' in word else word for word in sentence]\n",
        "\n",
        "    #replace emoticons with their descriptions\n",
        "    sentence = [emoji.demojize(word) if emoji.is_emoji(word) else word for word in sentence]\n",
        "    \n",
        "    #transliterates any UNICODE string into the closest possible representation in ASCII text\n",
        "    sentence = [unidecode.unidecode(word) for word in sentence]\n",
        "\n",
        "    #remove all punctuation\n",
        "    sentence = [word.translate(str.maketrans(dict.fromkeys(string.punctuation,''))) for word in sentence]\n",
        "\n",
        "    sentence = [word for word in sentence if word != '']\n",
        "\n",
        "    return sentence\n",
        "\n",
        "def preprocess_type3(sentence:str):\n",
        "    \"\"\"Lower, split, links to 'https', translate emoji, translate to UNICODE, no punctuation\"\"\"\n",
        "\n",
        "    sentence = preprocess_pipeline(sentence)\n",
        "\n",
        "    #replace url link string with 'uuuuu'\n",
        "    sentence = ['uuuuu' if 'http' in word else word for word in sentence]\n",
        "\n",
        "    #replace account link string with 'ttttt'\n",
        "    sentence = ['ttttt' if '@' in word else word for word in sentence]\n",
        "\n",
        "    #replace hashtag with 'ggggg'\n",
        "    sentence = ['ggggg' if '#' in word else word for word in sentence]\n",
        "\n",
        "    #replace emoticons with 'eeeee'\n",
        "    sentence = ['eeeee' if emoji.is_emoji(word) else word for word in sentence]\n",
        "    \n",
        "    #transliterates any UNICODE string into the closest possible representation in ASCII text\n",
        "    # sentence = [unidecode.unidecode(word) for word in sentence]\n",
        "\n",
        "    #remove all punctuation\n",
        "    sentence = [word.translate(str.maketrans(dict.fromkeys(string.punctuation,''))) for word in sentence]\n",
        "\n",
        "    #if a word has one non-ASCII character: remove\n",
        "    sentence = [word for word in sentence if word.isascii()]\n",
        "\n",
        "    sentence = [word for word in sentence if word != '']\n",
        "\n",
        "    return sentence\n",
        "\n",
        "def preprocess_type4(sentence:str):\n",
        "    \"\"\"Apply standard preprocessing, transliterates UNICODE characters in ASCII, \n",
        "    remove words with non ASCII characters, lemmatize and return a list of words\"\"\"\n",
        "\n",
        "    sentence = preprocess_pipeline(sentence)\n",
        "\n",
        "    #remove non-ascii words\n",
        "    sentence = lemmatize_and_remove_non_ascii(sentence) #TODO: lemmatization doesn't work\n",
        "\n",
        "    return sentence\n",
        "\n",
        "def preprocess_type5(sentence: str):\n",
        "    \"\"\"\n",
        "        Apply standard preprocessing, removes stop-words and non ascii's,  and stemmes.\n",
        "    \"\"\"\n",
        "    sentence = preprocess_pipeline(sentence)\n",
        "    stemmed = stemm_and_remove_non_ascii(sentence)\n",
        "    stop_words = set(stopwords.words('english'))\n",
        "    filter_stop_words = [word for word in stemmed if not word in stop_words]\n",
        "    return filter_stop_words"
      ]
    },
    {
      "cell_type": "code",
      "execution_count": 13,
      "metadata": {
        "colab": {
          "base_uri": "https://localhost:8080/"
        },
        "id": "11NlBlfI_lYm",
        "outputId": "86a2f00c-0578-4e19-bbb7-c427d6735ac4"
      },
      "outputs": [
        {
          "output_type": "stream",
          "name": "stdout",
          "text": [
            "Original tweet:\n",
            "RT @CarnivalCruise: 🎉 Are you ready to see what our newest ship’s name will be? 🎉 Thanks to all our partners for helping us unbox the name.…\n",
            "\n",
            "Processed tweet with type 2:\n",
            "['rt', 'carnivalcruise', 'partypopper', 'are', 'you', 'ready', 'to', 'see', 'what', 'our', 'newest', 'ships', 'name', 'will', 'be', 'partypopper', 'thanks', 'to', 'all', 'our', 'partners', 'for', 'helping', 'us', 'unbox', 'the', 'name']\n",
            "Processed tweet with type 3:\n",
            "['rt', 'ttttt', 'eeeee', 'are', 'you', 'ready', 'to', 'see', 'what', 'our', 'newest', 'name', 'will', 'be', 'eeeee', 'thanks', 'to', 'all', 'our', 'partners', 'for', 'helping', 'us', 'unbox', 'the']\n"
          ]
        }
      ],
      "source": [
        "print(f\"Original tweet:\\n{train.loc[0, 'tweet'][0]}\")\n",
        "print(f\"Processed tweet with type 2:\\n{preprocess_type2(train.loc[0, 'tweet'][0])}\")\n",
        "print(f\"Processed tweet with type 3:\\n{preprocess_type3(train.loc[0, 'tweet'][0])}\")"
      ]
    },
    {
      "cell_type": "code",
      "execution_count": 14,
      "metadata": {
        "colab": {
          "base_uri": "https://localhost:8080/",
          "height": 498
        },
        "id": "RBFiClsK_lYn",
        "outputId": "a8e64fe6-d1e7-467c-c64a-c2e9b8b9c535"
      },
      "outputs": [
        {
          "output_type": "stream",
          "name": "stdout",
          "text": [
            "Training set size: 675776\n",
            "Validation set size: 335351\n",
            "Test set size: 83223\n"
          ]
        },
        {
          "output_type": "execute_result",
          "data": {
            "text/plain": [
              "   tweet_id account_id                                              tweet  \\\n",
              "0         0   17461978  [rt, ttttt, eeeee, are, you, ready, to, see, w...   \n",
              "1         1   17461978  [who, has, time, for, receipts, not, me, ttttt...   \n",
              "2         2   17461978  [steady, wants, to, encourage, you, to, invest...   \n",
              "\n",
              "   neighbor                               domain label profile.id  \\\n",
              "0       NaN  [Politics, Business, Entertainment]     0  17461978    \n",
              "1       NaN  [Politics, Business, Entertainment]     0  17461978    \n",
              "2       NaN  [Politics, Business, Entertainment]     0  17461978    \n",
              "\n",
              "  profile.id_str profile.name profile.screen_name  ...  \\\n",
              "0      17461978         SHAQ                SHAQ   ...   \n",
              "1      17461978         SHAQ                SHAQ   ...   \n",
              "2      17461978         SHAQ                SHAQ   ...   \n",
              "\n",
              "  profile.profile_link_color profile.profile_sidebar_border_color  \\\n",
              "0                    2FC2EF                               181A1E    \n",
              "1                    2FC2EF                               181A1E    \n",
              "2                    2FC2EF                               181A1E    \n",
              "\n",
              "  profile.profile_sidebar_fill_color profile.profile_text_color  \\\n",
              "0                            252429                     666666    \n",
              "1                            252429                     666666    \n",
              "2                            252429                     666666    \n",
              "\n",
              "  profile.profile_use_background_image profile.has_extended_profile  \\\n",
              "0                                True                        False    \n",
              "1                                True                        False    \n",
              "2                                True                        False    \n",
              "\n",
              "  profile.default_profile profile.default_profile_image neighbor.following  \\\n",
              "0                  False                         False                 NaN   \n",
              "1                  False                         False                 NaN   \n",
              "2                  False                         False                 NaN   \n",
              "\n",
              "  neighbor.follower  \n",
              "0               NaN  \n",
              "1               NaN  \n",
              "2               NaN  \n",
              "\n",
              "[3 rows x 46 columns]"
            ],
            "text/html": [
              "\n",
              "  <div id=\"df-088b10e9-d8f6-49a5-80d9-81cf1e6e9055\">\n",
              "    <div class=\"colab-df-container\">\n",
              "      <div>\n",
              "<style scoped>\n",
              "    .dataframe tbody tr th:only-of-type {\n",
              "        vertical-align: middle;\n",
              "    }\n",
              "\n",
              "    .dataframe tbody tr th {\n",
              "        vertical-align: top;\n",
              "    }\n",
              "\n",
              "    .dataframe thead th {\n",
              "        text-align: right;\n",
              "    }\n",
              "</style>\n",
              "<table border=\"1\" class=\"dataframe\">\n",
              "  <thead>\n",
              "    <tr style=\"text-align: right;\">\n",
              "      <th></th>\n",
              "      <th>tweet_id</th>\n",
              "      <th>account_id</th>\n",
              "      <th>tweet</th>\n",
              "      <th>neighbor</th>\n",
              "      <th>domain</th>\n",
              "      <th>label</th>\n",
              "      <th>profile.id</th>\n",
              "      <th>profile.id_str</th>\n",
              "      <th>profile.name</th>\n",
              "      <th>profile.screen_name</th>\n",
              "      <th>...</th>\n",
              "      <th>profile.profile_link_color</th>\n",
              "      <th>profile.profile_sidebar_border_color</th>\n",
              "      <th>profile.profile_sidebar_fill_color</th>\n",
              "      <th>profile.profile_text_color</th>\n",
              "      <th>profile.profile_use_background_image</th>\n",
              "      <th>profile.has_extended_profile</th>\n",
              "      <th>profile.default_profile</th>\n",
              "      <th>profile.default_profile_image</th>\n",
              "      <th>neighbor.following</th>\n",
              "      <th>neighbor.follower</th>\n",
              "    </tr>\n",
              "  </thead>\n",
              "  <tbody>\n",
              "    <tr>\n",
              "      <th>0</th>\n",
              "      <td>0</td>\n",
              "      <td>17461978</td>\n",
              "      <td>[rt, ttttt, eeeee, are, you, ready, to, see, w...</td>\n",
              "      <td>NaN</td>\n",
              "      <td>[Politics, Business, Entertainment]</td>\n",
              "      <td>0</td>\n",
              "      <td>17461978</td>\n",
              "      <td>17461978</td>\n",
              "      <td>SHAQ</td>\n",
              "      <td>SHAQ</td>\n",
              "      <td>...</td>\n",
              "      <td>2FC2EF</td>\n",
              "      <td>181A1E</td>\n",
              "      <td>252429</td>\n",
              "      <td>666666</td>\n",
              "      <td>True</td>\n",
              "      <td>False</td>\n",
              "      <td>False</td>\n",
              "      <td>False</td>\n",
              "      <td>NaN</td>\n",
              "      <td>NaN</td>\n",
              "    </tr>\n",
              "    <tr>\n",
              "      <th>1</th>\n",
              "      <td>1</td>\n",
              "      <td>17461978</td>\n",
              "      <td>[who, has, time, for, receipts, not, me, ttttt...</td>\n",
              "      <td>NaN</td>\n",
              "      <td>[Politics, Business, Entertainment]</td>\n",
              "      <td>0</td>\n",
              "      <td>17461978</td>\n",
              "      <td>17461978</td>\n",
              "      <td>SHAQ</td>\n",
              "      <td>SHAQ</td>\n",
              "      <td>...</td>\n",
              "      <td>2FC2EF</td>\n",
              "      <td>181A1E</td>\n",
              "      <td>252429</td>\n",
              "      <td>666666</td>\n",
              "      <td>True</td>\n",
              "      <td>False</td>\n",
              "      <td>False</td>\n",
              "      <td>False</td>\n",
              "      <td>NaN</td>\n",
              "      <td>NaN</td>\n",
              "    </tr>\n",
              "    <tr>\n",
              "      <th>2</th>\n",
              "      <td>2</td>\n",
              "      <td>17461978</td>\n",
              "      <td>[steady, wants, to, encourage, you, to, invest...</td>\n",
              "      <td>NaN</td>\n",
              "      <td>[Politics, Business, Entertainment]</td>\n",
              "      <td>0</td>\n",
              "      <td>17461978</td>\n",
              "      <td>17461978</td>\n",
              "      <td>SHAQ</td>\n",
              "      <td>SHAQ</td>\n",
              "      <td>...</td>\n",
              "      <td>2FC2EF</td>\n",
              "      <td>181A1E</td>\n",
              "      <td>252429</td>\n",
              "      <td>666666</td>\n",
              "      <td>True</td>\n",
              "      <td>False</td>\n",
              "      <td>False</td>\n",
              "      <td>False</td>\n",
              "      <td>NaN</td>\n",
              "      <td>NaN</td>\n",
              "    </tr>\n",
              "  </tbody>\n",
              "</table>\n",
              "<p>3 rows × 46 columns</p>\n",
              "</div>\n",
              "      <button class=\"colab-df-convert\" onclick=\"convertToInteractive('df-088b10e9-d8f6-49a5-80d9-81cf1e6e9055')\"\n",
              "              title=\"Convert this dataframe to an interactive table.\"\n",
              "              style=\"display:none;\">\n",
              "        \n",
              "  <svg xmlns=\"http://www.w3.org/2000/svg\" height=\"24px\"viewBox=\"0 0 24 24\"\n",
              "       width=\"24px\">\n",
              "    <path d=\"M0 0h24v24H0V0z\" fill=\"none\"/>\n",
              "    <path d=\"M18.56 5.44l.94 2.06.94-2.06 2.06-.94-2.06-.94-.94-2.06-.94 2.06-2.06.94zm-11 1L8.5 8.5l.94-2.06 2.06-.94-2.06-.94L8.5 2.5l-.94 2.06-2.06.94zm10 10l.94 2.06.94-2.06 2.06-.94-2.06-.94-.94-2.06-.94 2.06-2.06.94z\"/><path d=\"M17.41 7.96l-1.37-1.37c-.4-.4-.92-.59-1.43-.59-.52 0-1.04.2-1.43.59L10.3 9.45l-7.72 7.72c-.78.78-.78 2.05 0 2.83L4 21.41c.39.39.9.59 1.41.59.51 0 1.02-.2 1.41-.59l7.78-7.78 2.81-2.81c.8-.78.8-2.07 0-2.86zM5.41 20L4 18.59l7.72-7.72 1.47 1.35L5.41 20z\"/>\n",
              "  </svg>\n",
              "      </button>\n",
              "      \n",
              "  <style>\n",
              "    .colab-df-container {\n",
              "      display:flex;\n",
              "      flex-wrap:wrap;\n",
              "      gap: 12px;\n",
              "    }\n",
              "\n",
              "    .colab-df-convert {\n",
              "      background-color: #E8F0FE;\n",
              "      border: none;\n",
              "      border-radius: 50%;\n",
              "      cursor: pointer;\n",
              "      display: none;\n",
              "      fill: #1967D2;\n",
              "      height: 32px;\n",
              "      padding: 0 0 0 0;\n",
              "      width: 32px;\n",
              "    }\n",
              "\n",
              "    .colab-df-convert:hover {\n",
              "      background-color: #E2EBFA;\n",
              "      box-shadow: 0px 1px 2px rgba(60, 64, 67, 0.3), 0px 1px 3px 1px rgba(60, 64, 67, 0.15);\n",
              "      fill: #174EA6;\n",
              "    }\n",
              "\n",
              "    [theme=dark] .colab-df-convert {\n",
              "      background-color: #3B4455;\n",
              "      fill: #D2E3FC;\n",
              "    }\n",
              "\n",
              "    [theme=dark] .colab-df-convert:hover {\n",
              "      background-color: #434B5C;\n",
              "      box-shadow: 0px 1px 3px 1px rgba(0, 0, 0, 0.15);\n",
              "      filter: drop-shadow(0px 1px 2px rgba(0, 0, 0, 0.3));\n",
              "      fill: #FFFFFF;\n",
              "    }\n",
              "  </style>\n",
              "\n",
              "      <script>\n",
              "        const buttonEl =\n",
              "          document.querySelector('#df-088b10e9-d8f6-49a5-80d9-81cf1e6e9055 button.colab-df-convert');\n",
              "        buttonEl.style.display =\n",
              "          google.colab.kernel.accessAllowed ? 'block' : 'none';\n",
              "\n",
              "        async function convertToInteractive(key) {\n",
              "          const element = document.querySelector('#df-088b10e9-d8f6-49a5-80d9-81cf1e6e9055');\n",
              "          const dataTable =\n",
              "            await google.colab.kernel.invokeFunction('convertToInteractive',\n",
              "                                                     [key], {});\n",
              "          if (!dataTable) return;\n",
              "\n",
              "          const docLinkHtml = 'Like what you see? Visit the ' +\n",
              "            '<a target=\"_blank\" href=https://colab.research.google.com/notebooks/data_table.ipynb>data table notebook</a>'\n",
              "            + ' to learn more about interactive tables.';\n",
              "          element.innerHTML = '';\n",
              "          dataTable['output_type'] = 'display_data';\n",
              "          await google.colab.output.renderOutput(dataTable, element);\n",
              "          const docLink = document.createElement('div');\n",
              "          docLink.innerHTML = docLinkHtml;\n",
              "          element.appendChild(docLink);\n",
              "        }\n",
              "      </script>\n",
              "    </div>\n",
              "  </div>\n",
              "  "
            ]
          },
          "metadata": {},
          "execution_count": 14
        }
      ],
      "source": [
        "# Remove all accounts without tweets\n",
        "train.dropna(subset=['tweet'], inplace=True)\n",
        "val.dropna(subset=['tweet'], inplace=True)\n",
        "test.dropna(subset=['tweet'], inplace=True)\n",
        "\n",
        "train = train.explode('tweet').reset_index(drop=True)\n",
        "val = val.explode('tweet').reset_index(drop=True)\n",
        "test = test.explode('tweet').reset_index(drop=True)\n",
        "\n",
        "# Preprocess all tweets\n",
        "train['tweet'] = train['tweet'].apply(preprocess_type3)\n",
        "val['tweet'] = val['tweet'].apply(preprocess_type3)\n",
        "test['tweet'] = test['tweet'].apply(preprocess_type3)\n",
        "\n",
        "train = train[train['tweet'].map(lambda x: len(x)) > 0].reset_index()\n",
        "train.rename(columns={\"index\": \"tweet_id\", \"ID\": \"account_id\"}, inplace=True)\n",
        "val = val[val['tweet'].map(lambda x: len(x)) > 0].reset_index()\n",
        "val.rename(columns={\"index\": \"tweet_id\", \"ID\": \"account_id\"}, inplace=True)\n",
        "test = test[test['tweet'].map(lambda x: len(x)) > 0].reset_index()\n",
        "test.rename(columns={\"index\": \"tweet_id\", \"ID\": \"account_id\"}, inplace=True)\n",
        "\n",
        "print(f\"Training set size: {len(train)}\")\n",
        "print(f\"Validation set size: {len(val)}\")\n",
        "print(f\"Test set size: {len(test)}\")\n",
        "\n",
        "train.head(3)"
      ]
    },
    {
      "cell_type": "markdown",
      "metadata": {
        "id": "UnA_c8M__lYo"
      },
      "source": [
        "# Vocabulary"
      ]
    },
    {
      "cell_type": "code",
      "execution_count": 15,
      "metadata": {
        "id": "djLOhIZ7_lYo"
      },
      "outputs": [],
      "source": [
        "Vocab = namedtuple('Vocabulary',['word2int','int2word','unique_words'])\n",
        "\n",
        "def build_vocab(unique_words): \n",
        "    \"\"\"\n",
        "        Builds the dictionaries word2int, int2word and put them in the Vocabulary\n",
        "    \"\"\"\n",
        "    word2int = OrderedDict()\n",
        "    int2word = OrderedDict()\n",
        "\n",
        "    for i, word in enumerate(unique_words):\n",
        "        word2int[word] = i+1           #plus 1 since the 0 will be used as tag token \n",
        "        int2word[i+1] = word\n",
        "    \n",
        "    return Vocab(word2int,int2word,unique_words)"
      ]
    },
    {
      "cell_type": "code",
      "execution_count": 16,
      "metadata": {
        "colab": {
          "base_uri": "https://localhost:8080/"
        },
        "id": "ev5PYppK_lYp",
        "outputId": "9183ac3b-aa87-496a-fadb-44a651e8d3f7"
      },
      "outputs": [
        {
          "output_type": "stream",
          "name": "stdout",
          "text": [
            "The number of unique words belonging to training set is: 244679\n",
            "The number of unique words belonging to validation set is: 169751\n",
            "The number of unique words belonging to test set is: 70490\n",
            "The number of unique words in the entire dataset is: 339919\n"
          ]
        }
      ],
      "source": [
        "unique_words_train = train['tweet'].explode().unique().tolist()\n",
        "unique_words_val = val['tweet'].explode().unique().tolist()\n",
        "unique_words_test = test['tweet'].explode().unique().tolist()\n",
        "\n",
        "print('The number of unique words belonging to training set is:', len(unique_words_train))\n",
        "print('The number of unique words belonging to validation set is:', len(unique_words_val))\n",
        "print('The number of unique words belonging to test set is:', len(unique_words_test))\n",
        "\n",
        "unique_words = set(unique_words_train + unique_words_val + unique_words_test)\n",
        "print('The number of unique words in the entire dataset is:', len(unique_words))"
      ]
    },
    {
      "cell_type": "code",
      "execution_count": 17,
      "metadata": {
        "id": "Mvt-F-24_lYp"
      },
      "outputs": [],
      "source": [
        "vocab = build_vocab(unique_words)"
      ]
    },
    {
      "cell_type": "code",
      "execution_count": 18,
      "metadata": {
        "colab": {
          "base_uri": "https://localhost:8080/"
        },
        "id": "GFRal-fj_lYq",
        "outputId": "18486e9e-e220-46e0-998b-ddd2a4d13630"
      },
      "outputs": [
        {
          "output_type": "stream",
          "name": "stdout",
          "text": [
            "CHECK COMPLETED: All right with dataset numberization\n"
          ]
        }
      ],
      "source": [
        "def build_indexed_dataframe(df: pd.DataFrame):\n",
        "\n",
        "    df['idx_tweet'] = df.tweet.apply(lambda x:list(map(vocab.word2int.get,x)))\n",
        "    df['label'] = df.label.astype('category')   #convert the label column into category dtype\n",
        "    df['label'] = df.label.cat.codes        #assign unique integer to each category\n",
        "    df['tweet_id'] = df['tweet_id'].astype(np.int64)\n",
        "\n",
        "    return df \n",
        "\n",
        "def check_dataframe_numberization(df,vocab):\n",
        "\n",
        "    \"\"\"\n",
        "       Checks if the numberized dataframe will lead to the normal dataframe usind the reverse mapping \n",
        "    \"\"\"\n",
        "\n",
        "    tweet = df['tweet']\n",
        "\n",
        "    idx_to_tweet = df.idx_tweet.apply(lambda x:list(map(vocab.int2word.get,x)))\n",
        "\n",
        "    if tweet.equals(idx_to_tweet):\n",
        "        print('CHECK COMPLETED: All right with dataset numberization')\n",
        "    else:\n",
        "        raise Exception('There are problems with Dataset numberization')\n",
        "\n",
        "train = build_indexed_dataframe(train)\n",
        "val = build_indexed_dataframe(val)\n",
        "test = build_indexed_dataframe(test)\n",
        "\n",
        "check_dataframe_numberization(train,vocab)"
      ]
    },
    {
      "cell_type": "code",
      "execution_count": 19,
      "metadata": {
        "colab": {
          "base_uri": "https://localhost:8080/",
          "height": 497
        },
        "id": "WVxWzAUE_lYr",
        "outputId": "b5206c8d-8815-401b-de73-8e306d0cab0a"
      },
      "outputs": [
        {
          "output_type": "execute_result",
          "data": {
            "text/plain": [
              "   tweet_id account_id                                              tweet  \\\n",
              "0         0   17461978  [rt, ttttt, eeeee, are, you, ready, to, see, w...   \n",
              "1         1   17461978  [who, has, time, for, receipts, not, me, ttttt...   \n",
              "2         2   17461978  [steady, wants, to, encourage, you, to, invest...   \n",
              "\n",
              "   neighbor                               domain  label profile.id  \\\n",
              "0       NaN  [Politics, Business, Entertainment]      0  17461978    \n",
              "1       NaN  [Politics, Business, Entertainment]      0  17461978    \n",
              "2       NaN  [Politics, Business, Entertainment]      0  17461978    \n",
              "\n",
              "  profile.id_str profile.name profile.screen_name  ...  \\\n",
              "0      17461978         SHAQ                SHAQ   ...   \n",
              "1      17461978         SHAQ                SHAQ   ...   \n",
              "2      17461978         SHAQ                SHAQ   ...   \n",
              "\n",
              "  profile.profile_sidebar_border_color profile.profile_sidebar_fill_color  \\\n",
              "0                              181A1E                             252429    \n",
              "1                              181A1E                             252429    \n",
              "2                              181A1E                             252429    \n",
              "\n",
              "  profile.profile_text_color profile.profile_use_background_image  \\\n",
              "0                    666666                                 True    \n",
              "1                    666666                                 True    \n",
              "2                    666666                                 True    \n",
              "\n",
              "  profile.has_extended_profile profile.default_profile  \\\n",
              "0                       False                   False    \n",
              "1                       False                   False    \n",
              "2                       False                   False    \n",
              "\n",
              "  profile.default_profile_image neighbor.following neighbor.follower  \\\n",
              "0                        False                 NaN               NaN   \n",
              "1                        False                 NaN               NaN   \n",
              "2                        False                 NaN               NaN   \n",
              "\n",
              "                                           idx_tweet  \n",
              "0  [202019, 112973, 19412, 104951, 35730, 331516,...  \n",
              "1  [193444, 39440, 108400, 200373, 130441, 29741,...  \n",
              "2  [98989, 279543, 80810, 303019, 35730, 80810, 8...  \n",
              "\n",
              "[3 rows x 47 columns]"
            ],
            "text/html": [
              "\n",
              "  <div id=\"df-f246ff66-ccfc-439f-82c9-1fa63e2d1374\">\n",
              "    <div class=\"colab-df-container\">\n",
              "      <div>\n",
              "<style scoped>\n",
              "    .dataframe tbody tr th:only-of-type {\n",
              "        vertical-align: middle;\n",
              "    }\n",
              "\n",
              "    .dataframe tbody tr th {\n",
              "        vertical-align: top;\n",
              "    }\n",
              "\n",
              "    .dataframe thead th {\n",
              "        text-align: right;\n",
              "    }\n",
              "</style>\n",
              "<table border=\"1\" class=\"dataframe\">\n",
              "  <thead>\n",
              "    <tr style=\"text-align: right;\">\n",
              "      <th></th>\n",
              "      <th>tweet_id</th>\n",
              "      <th>account_id</th>\n",
              "      <th>tweet</th>\n",
              "      <th>neighbor</th>\n",
              "      <th>domain</th>\n",
              "      <th>label</th>\n",
              "      <th>profile.id</th>\n",
              "      <th>profile.id_str</th>\n",
              "      <th>profile.name</th>\n",
              "      <th>profile.screen_name</th>\n",
              "      <th>...</th>\n",
              "      <th>profile.profile_sidebar_border_color</th>\n",
              "      <th>profile.profile_sidebar_fill_color</th>\n",
              "      <th>profile.profile_text_color</th>\n",
              "      <th>profile.profile_use_background_image</th>\n",
              "      <th>profile.has_extended_profile</th>\n",
              "      <th>profile.default_profile</th>\n",
              "      <th>profile.default_profile_image</th>\n",
              "      <th>neighbor.following</th>\n",
              "      <th>neighbor.follower</th>\n",
              "      <th>idx_tweet</th>\n",
              "    </tr>\n",
              "  </thead>\n",
              "  <tbody>\n",
              "    <tr>\n",
              "      <th>0</th>\n",
              "      <td>0</td>\n",
              "      <td>17461978</td>\n",
              "      <td>[rt, ttttt, eeeee, are, you, ready, to, see, w...</td>\n",
              "      <td>NaN</td>\n",
              "      <td>[Politics, Business, Entertainment]</td>\n",
              "      <td>0</td>\n",
              "      <td>17461978</td>\n",
              "      <td>17461978</td>\n",
              "      <td>SHAQ</td>\n",
              "      <td>SHAQ</td>\n",
              "      <td>...</td>\n",
              "      <td>181A1E</td>\n",
              "      <td>252429</td>\n",
              "      <td>666666</td>\n",
              "      <td>True</td>\n",
              "      <td>False</td>\n",
              "      <td>False</td>\n",
              "      <td>False</td>\n",
              "      <td>NaN</td>\n",
              "      <td>NaN</td>\n",
              "      <td>[202019, 112973, 19412, 104951, 35730, 331516,...</td>\n",
              "    </tr>\n",
              "    <tr>\n",
              "      <th>1</th>\n",
              "      <td>1</td>\n",
              "      <td>17461978</td>\n",
              "      <td>[who, has, time, for, receipts, not, me, ttttt...</td>\n",
              "      <td>NaN</td>\n",
              "      <td>[Politics, Business, Entertainment]</td>\n",
              "      <td>0</td>\n",
              "      <td>17461978</td>\n",
              "      <td>17461978</td>\n",
              "      <td>SHAQ</td>\n",
              "      <td>SHAQ</td>\n",
              "      <td>...</td>\n",
              "      <td>181A1E</td>\n",
              "      <td>252429</td>\n",
              "      <td>666666</td>\n",
              "      <td>True</td>\n",
              "      <td>False</td>\n",
              "      <td>False</td>\n",
              "      <td>False</td>\n",
              "      <td>NaN</td>\n",
              "      <td>NaN</td>\n",
              "      <td>[193444, 39440, 108400, 200373, 130441, 29741,...</td>\n",
              "    </tr>\n",
              "    <tr>\n",
              "      <th>2</th>\n",
              "      <td>2</td>\n",
              "      <td>17461978</td>\n",
              "      <td>[steady, wants, to, encourage, you, to, invest...</td>\n",
              "      <td>NaN</td>\n",
              "      <td>[Politics, Business, Entertainment]</td>\n",
              "      <td>0</td>\n",
              "      <td>17461978</td>\n",
              "      <td>17461978</td>\n",
              "      <td>SHAQ</td>\n",
              "      <td>SHAQ</td>\n",
              "      <td>...</td>\n",
              "      <td>181A1E</td>\n",
              "      <td>252429</td>\n",
              "      <td>666666</td>\n",
              "      <td>True</td>\n",
              "      <td>False</td>\n",
              "      <td>False</td>\n",
              "      <td>False</td>\n",
              "      <td>NaN</td>\n",
              "      <td>NaN</td>\n",
              "      <td>[98989, 279543, 80810, 303019, 35730, 80810, 8...</td>\n",
              "    </tr>\n",
              "  </tbody>\n",
              "</table>\n",
              "<p>3 rows × 47 columns</p>\n",
              "</div>\n",
              "      <button class=\"colab-df-convert\" onclick=\"convertToInteractive('df-f246ff66-ccfc-439f-82c9-1fa63e2d1374')\"\n",
              "              title=\"Convert this dataframe to an interactive table.\"\n",
              "              style=\"display:none;\">\n",
              "        \n",
              "  <svg xmlns=\"http://www.w3.org/2000/svg\" height=\"24px\"viewBox=\"0 0 24 24\"\n",
              "       width=\"24px\">\n",
              "    <path d=\"M0 0h24v24H0V0z\" fill=\"none\"/>\n",
              "    <path d=\"M18.56 5.44l.94 2.06.94-2.06 2.06-.94-2.06-.94-.94-2.06-.94 2.06-2.06.94zm-11 1L8.5 8.5l.94-2.06 2.06-.94-2.06-.94L8.5 2.5l-.94 2.06-2.06.94zm10 10l.94 2.06.94-2.06 2.06-.94-2.06-.94-.94-2.06-.94 2.06-2.06.94z\"/><path d=\"M17.41 7.96l-1.37-1.37c-.4-.4-.92-.59-1.43-.59-.52 0-1.04.2-1.43.59L10.3 9.45l-7.72 7.72c-.78.78-.78 2.05 0 2.83L4 21.41c.39.39.9.59 1.41.59.51 0 1.02-.2 1.41-.59l7.78-7.78 2.81-2.81c.8-.78.8-2.07 0-2.86zM5.41 20L4 18.59l7.72-7.72 1.47 1.35L5.41 20z\"/>\n",
              "  </svg>\n",
              "      </button>\n",
              "      \n",
              "  <style>\n",
              "    .colab-df-container {\n",
              "      display:flex;\n",
              "      flex-wrap:wrap;\n",
              "      gap: 12px;\n",
              "    }\n",
              "\n",
              "    .colab-df-convert {\n",
              "      background-color: #E8F0FE;\n",
              "      border: none;\n",
              "      border-radius: 50%;\n",
              "      cursor: pointer;\n",
              "      display: none;\n",
              "      fill: #1967D2;\n",
              "      height: 32px;\n",
              "      padding: 0 0 0 0;\n",
              "      width: 32px;\n",
              "    }\n",
              "\n",
              "    .colab-df-convert:hover {\n",
              "      background-color: #E2EBFA;\n",
              "      box-shadow: 0px 1px 2px rgba(60, 64, 67, 0.3), 0px 1px 3px 1px rgba(60, 64, 67, 0.15);\n",
              "      fill: #174EA6;\n",
              "    }\n",
              "\n",
              "    [theme=dark] .colab-df-convert {\n",
              "      background-color: #3B4455;\n",
              "      fill: #D2E3FC;\n",
              "    }\n",
              "\n",
              "    [theme=dark] .colab-df-convert:hover {\n",
              "      background-color: #434B5C;\n",
              "      box-shadow: 0px 1px 3px 1px rgba(0, 0, 0, 0.15);\n",
              "      filter: drop-shadow(0px 1px 2px rgba(0, 0, 0, 0.3));\n",
              "      fill: #FFFFFF;\n",
              "    }\n",
              "  </style>\n",
              "\n",
              "      <script>\n",
              "        const buttonEl =\n",
              "          document.querySelector('#df-f246ff66-ccfc-439f-82c9-1fa63e2d1374 button.colab-df-convert');\n",
              "        buttonEl.style.display =\n",
              "          google.colab.kernel.accessAllowed ? 'block' : 'none';\n",
              "\n",
              "        async function convertToInteractive(key) {\n",
              "          const element = document.querySelector('#df-f246ff66-ccfc-439f-82c9-1fa63e2d1374');\n",
              "          const dataTable =\n",
              "            await google.colab.kernel.invokeFunction('convertToInteractive',\n",
              "                                                     [key], {});\n",
              "          if (!dataTable) return;\n",
              "\n",
              "          const docLinkHtml = 'Like what you see? Visit the ' +\n",
              "            '<a target=\"_blank\" href=https://colab.research.google.com/notebooks/data_table.ipynb>data table notebook</a>'\n",
              "            + ' to learn more about interactive tables.';\n",
              "          element.innerHTML = '';\n",
              "          dataTable['output_type'] = 'display_data';\n",
              "          await google.colab.output.renderOutput(dataTable, element);\n",
              "          const docLink = document.createElement('div');\n",
              "          docLink.innerHTML = docLinkHtml;\n",
              "          element.appendChild(docLink);\n",
              "        }\n",
              "      </script>\n",
              "    </div>\n",
              "  </div>\n",
              "  "
            ]
          },
          "metadata": {},
          "execution_count": 19
        }
      ],
      "source": [
        "train.head(3)"
      ]
    },
    {
      "cell_type": "markdown",
      "metadata": {
        "id": "QwHey0D8_lYr"
      },
      "source": [
        "# Dataloaders"
      ]
    },
    {
      "cell_type": "code",
      "execution_count": 20,
      "metadata": {
        "id": "cIb8q2JE_lYr"
      },
      "outputs": [],
      "source": [
        "from torchtext.data import BucketIterator\n",
        "from torch.utils.data import Dataset\n",
        "\n",
        "class DataframeDataset(Dataset):\n",
        "\n",
        "    def __init__(self, dataframe: pd.DataFrame):\n",
        "\n",
        "        dataframe = dataframe.copy()\n",
        "        self.tweet = dataframe['idx_tweet']      #column of numberized tweets\n",
        "        self.label = dataframe['label']       #column of categorical label \n",
        "        self.id = dataframe['tweet_id']          #column of claim ids \n",
        "\n",
        "    def __len__(self):\n",
        "        return len(self.tweet)\n",
        "\n",
        "    def __getitem__(self, idx):\n",
        "        return {'tweet': self.tweet[idx],\n",
        "                'label': self.label[idx],\n",
        "                'tweet_id': self.id[idx]}\n",
        "\n",
        "def create_dataloaders(b_s : int, train: pd.DataFrame, val: pd.DataFrame, test: pd.DataFrame):     #b_s = batch_size\n",
        "\n",
        "    #create DataframeDataset objects for each split \n",
        "    train_dataset = DataframeDataset(train)\n",
        "    val_dataset = DataframeDataset(val)\n",
        "    test_dataset = DataframeDataset(test)\n",
        "\n",
        "\n",
        "    # Group similar length text sequences together in batches and return an iterator for each split.\n",
        "    train_dataloader,val_dataloader,test_dataloader = BucketIterator.splits((train_dataset,val_dataset,test_dataset),\n",
        "                                                        batch_sizes=(b_s,b_s,b_s), sort_key=lambda x: (len(x['tweet'])), \n",
        "                                                        repeat=True, sort=False, shuffle=True, sort_within_batch=True)\n",
        "    \n",
        "    return train_dataloader,val_dataloader,test_dataloader "
      ]
    },
    {
      "cell_type": "code",
      "execution_count": 21,
      "metadata": {
        "colab": {
          "base_uri": "https://localhost:8080/",
          "height": 366
        },
        "id": "KJWxgFhu_lYs",
        "outputId": "8379c87d-dadf-4525-e149-4592e7b9fa23"
      },
      "outputs": [
        {
          "output_type": "stream",
          "name": "stdout",
          "text": [
            "Tweet:  [208676, 210513, 112973, 73237, 145023, 317329, 119160, 112973, 211665, 145023, 317329, 328773, 32296, 246830]\n",
            "Label:  0\n",
            "Tweet Id:  383880 \n",
            "\n",
            "Corresponding row in the dataset:\n"
          ]
        },
        {
          "output_type": "execute_result",
          "data": {
            "text/plain": [
              "        tweet_id account_id  \\\n",
              "382362    383880   20776147   \n",
              "\n",
              "                                                    tweet  neighbor  \\\n",
              "382362  [right, after, ttttt, talks, about, the, ggggg...       NaN   \n",
              "\n",
              "                                   domain  label profile.id profile.id_str  \\\n",
              "382362  [Politics, Entertainment, Sports]      0  20776147       20776147    \n",
              "\n",
              "        profile.name profile.screen_name  ...  \\\n",
              "382362  Sean Spicer          seanspicer   ...   \n",
              "\n",
              "       profile.profile_sidebar_border_color  \\\n",
              "382362                              DBE9ED    \n",
              "\n",
              "       profile.profile_sidebar_fill_color profile.profile_text_color  \\\n",
              "382362                            E6EEF7                     333333    \n",
              "\n",
              "       profile.profile_use_background_image profile.has_extended_profile  \\\n",
              "382362                                True                        False    \n",
              "\n",
              "       profile.default_profile profile.default_profile_image  \\\n",
              "382362                  False                         False    \n",
              "\n",
              "       neighbor.following neighbor.follower  \\\n",
              "382362                NaN               NaN   \n",
              "\n",
              "                                                idx_tweet  \n",
              "382362  [208676, 210513, 112973, 73237, 145023, 317329...  \n",
              "\n",
              "[1 rows x 47 columns]"
            ],
            "text/html": [
              "\n",
              "  <div id=\"df-a669d9c1-c2c9-443f-8a63-b1d52367739f\">\n",
              "    <div class=\"colab-df-container\">\n",
              "      <div>\n",
              "<style scoped>\n",
              "    .dataframe tbody tr th:only-of-type {\n",
              "        vertical-align: middle;\n",
              "    }\n",
              "\n",
              "    .dataframe tbody tr th {\n",
              "        vertical-align: top;\n",
              "    }\n",
              "\n",
              "    .dataframe thead th {\n",
              "        text-align: right;\n",
              "    }\n",
              "</style>\n",
              "<table border=\"1\" class=\"dataframe\">\n",
              "  <thead>\n",
              "    <tr style=\"text-align: right;\">\n",
              "      <th></th>\n",
              "      <th>tweet_id</th>\n",
              "      <th>account_id</th>\n",
              "      <th>tweet</th>\n",
              "      <th>neighbor</th>\n",
              "      <th>domain</th>\n",
              "      <th>label</th>\n",
              "      <th>profile.id</th>\n",
              "      <th>profile.id_str</th>\n",
              "      <th>profile.name</th>\n",
              "      <th>profile.screen_name</th>\n",
              "      <th>...</th>\n",
              "      <th>profile.profile_sidebar_border_color</th>\n",
              "      <th>profile.profile_sidebar_fill_color</th>\n",
              "      <th>profile.profile_text_color</th>\n",
              "      <th>profile.profile_use_background_image</th>\n",
              "      <th>profile.has_extended_profile</th>\n",
              "      <th>profile.default_profile</th>\n",
              "      <th>profile.default_profile_image</th>\n",
              "      <th>neighbor.following</th>\n",
              "      <th>neighbor.follower</th>\n",
              "      <th>idx_tweet</th>\n",
              "    </tr>\n",
              "  </thead>\n",
              "  <tbody>\n",
              "    <tr>\n",
              "      <th>382362</th>\n",
              "      <td>383880</td>\n",
              "      <td>20776147</td>\n",
              "      <td>[right, after, ttttt, talks, about, the, ggggg...</td>\n",
              "      <td>NaN</td>\n",
              "      <td>[Politics, Entertainment, Sports]</td>\n",
              "      <td>0</td>\n",
              "      <td>20776147</td>\n",
              "      <td>20776147</td>\n",
              "      <td>Sean Spicer</td>\n",
              "      <td>seanspicer</td>\n",
              "      <td>...</td>\n",
              "      <td>DBE9ED</td>\n",
              "      <td>E6EEF7</td>\n",
              "      <td>333333</td>\n",
              "      <td>True</td>\n",
              "      <td>False</td>\n",
              "      <td>False</td>\n",
              "      <td>False</td>\n",
              "      <td>NaN</td>\n",
              "      <td>NaN</td>\n",
              "      <td>[208676, 210513, 112973, 73237, 145023, 317329...</td>\n",
              "    </tr>\n",
              "  </tbody>\n",
              "</table>\n",
              "<p>1 rows × 47 columns</p>\n",
              "</div>\n",
              "      <button class=\"colab-df-convert\" onclick=\"convertToInteractive('df-a669d9c1-c2c9-443f-8a63-b1d52367739f')\"\n",
              "              title=\"Convert this dataframe to an interactive table.\"\n",
              "              style=\"display:none;\">\n",
              "        \n",
              "  <svg xmlns=\"http://www.w3.org/2000/svg\" height=\"24px\"viewBox=\"0 0 24 24\"\n",
              "       width=\"24px\">\n",
              "    <path d=\"M0 0h24v24H0V0z\" fill=\"none\"/>\n",
              "    <path d=\"M18.56 5.44l.94 2.06.94-2.06 2.06-.94-2.06-.94-.94-2.06-.94 2.06-2.06.94zm-11 1L8.5 8.5l.94-2.06 2.06-.94-2.06-.94L8.5 2.5l-.94 2.06-2.06.94zm10 10l.94 2.06.94-2.06 2.06-.94-2.06-.94-.94-2.06-.94 2.06-2.06.94z\"/><path d=\"M17.41 7.96l-1.37-1.37c-.4-.4-.92-.59-1.43-.59-.52 0-1.04.2-1.43.59L10.3 9.45l-7.72 7.72c-.78.78-.78 2.05 0 2.83L4 21.41c.39.39.9.59 1.41.59.51 0 1.02-.2 1.41-.59l7.78-7.78 2.81-2.81c.8-.78.8-2.07 0-2.86zM5.41 20L4 18.59l7.72-7.72 1.47 1.35L5.41 20z\"/>\n",
              "  </svg>\n",
              "      </button>\n",
              "      \n",
              "  <style>\n",
              "    .colab-df-container {\n",
              "      display:flex;\n",
              "      flex-wrap:wrap;\n",
              "      gap: 12px;\n",
              "    }\n",
              "\n",
              "    .colab-df-convert {\n",
              "      background-color: #E8F0FE;\n",
              "      border: none;\n",
              "      border-radius: 50%;\n",
              "      cursor: pointer;\n",
              "      display: none;\n",
              "      fill: #1967D2;\n",
              "      height: 32px;\n",
              "      padding: 0 0 0 0;\n",
              "      width: 32px;\n",
              "    }\n",
              "\n",
              "    .colab-df-convert:hover {\n",
              "      background-color: #E2EBFA;\n",
              "      box-shadow: 0px 1px 2px rgba(60, 64, 67, 0.3), 0px 1px 3px 1px rgba(60, 64, 67, 0.15);\n",
              "      fill: #174EA6;\n",
              "    }\n",
              "\n",
              "    [theme=dark] .colab-df-convert {\n",
              "      background-color: #3B4455;\n",
              "      fill: #D2E3FC;\n",
              "    }\n",
              "\n",
              "    [theme=dark] .colab-df-convert:hover {\n",
              "      background-color: #434B5C;\n",
              "      box-shadow: 0px 1px 3px 1px rgba(0, 0, 0, 0.15);\n",
              "      filter: drop-shadow(0px 1px 2px rgba(0, 0, 0, 0.3));\n",
              "      fill: #FFFFFF;\n",
              "    }\n",
              "  </style>\n",
              "\n",
              "      <script>\n",
              "        const buttonEl =\n",
              "          document.querySelector('#df-a669d9c1-c2c9-443f-8a63-b1d52367739f button.colab-df-convert');\n",
              "        buttonEl.style.display =\n",
              "          google.colab.kernel.accessAllowed ? 'block' : 'none';\n",
              "\n",
              "        async function convertToInteractive(key) {\n",
              "          const element = document.querySelector('#df-a669d9c1-c2c9-443f-8a63-b1d52367739f');\n",
              "          const dataTable =\n",
              "            await google.colab.kernel.invokeFunction('convertToInteractive',\n",
              "                                                     [key], {});\n",
              "          if (!dataTable) return;\n",
              "\n",
              "          const docLinkHtml = 'Like what you see? Visit the ' +\n",
              "            '<a target=\"_blank\" href=https://colab.research.google.com/notebooks/data_table.ipynb>data table notebook</a>'\n",
              "            + ' to learn more about interactive tables.';\n",
              "          element.innerHTML = '';\n",
              "          dataTable['output_type'] = 'display_data';\n",
              "          await google.colab.output.renderOutput(dataTable, element);\n",
              "          const docLink = document.createElement('div');\n",
              "          docLink.innerHTML = docLinkHtml;\n",
              "          element.appendChild(docLink);\n",
              "        }\n",
              "      </script>\n",
              "    </div>\n",
              "  </div>\n",
              "  "
            ]
          },
          "metadata": {},
          "execution_count": 21
        }
      ],
      "source": [
        "temp_batch_size = 128\n",
        "train_dataloader, val_dataloader, test_dataloader = create_dataloaders(temp_batch_size, train, val, test)\n",
        "random_idx = random.randint(0, temp_batch_size-1)\n",
        "train_dataloader.init_epoch()\n",
        "for batch_id, batch in enumerate(train_dataloader.batches):\n",
        "    print(\"Tweet: \", batch[random_idx]['tweet'])\n",
        "    print(\"Label: \", batch[random_idx]['label'])\n",
        "    print(\"Tweet Id: \", batch[random_idx]['tweet_id'], \"\\n\")\n",
        "    print(\"Corresponding row in the dataset:\")\n",
        "    train[train['idx_tweet'].apply(lambda x: x == batch[random_idx]['tweet'])]\n",
        "    break"
      ]
    },
    {
      "cell_type": "markdown",
      "metadata": {
        "id": "7hTEKekD_lYs"
      },
      "source": [
        "# Word embeddings"
      ]
    },
    {
      "cell_type": "code",
      "execution_count": 22,
      "metadata": {
        "colab": {
          "base_uri": "https://localhost:8080/"
        },
        "id": "m3pM7YCW_lYs",
        "outputId": "627c6351-43e5-4e72-8a87-c48d62fed916"
      },
      "outputs": [
        {
          "output_type": "stream",
          "name": "stdout",
          "text": [
            "glove vecotrs already saved in data folder, retrieving the file...\n",
            "vectors loaded\n"
          ]
        }
      ],
      "source": [
        "emb_matrix_path = os.path.join(data_folder, \"emb_matrix.npy\")\n",
        "glove_model_path = os.path.join(data_folder, \"glove_vectors.txt\") \n",
        "\n",
        "def download_glove_emb(force_download = False):   \n",
        "    \"\"\"\n",
        "        Download the glove embedding model and returns it \n",
        "    \"\"\"\n",
        "    emb_model = None\n",
        "\n",
        "    if os.path.exists(glove_model_path) and not force_download: \n",
        "        print('glove vecotrs already saved in data folder, retrieving the file...')\n",
        "        emb_model = KeyedVectors.load_word2vec_format(glove_model_path, binary=True)\n",
        "        print('vectors loaded')\n",
        "\n",
        "    else:\n",
        "        print('downloading glove embeddings...')        \n",
        "        embedding_dimension=300\n",
        "\n",
        "        download_path = \"glove-wiki-gigaword-{}\".format(embedding_dimension)\n",
        "        emb_model = gloader.load(download_path)\n",
        "\n",
        "        print('saving glove embeddings to file')  \n",
        "        emb_model.save_word2vec_format(glove_model_path, binary=True)\n",
        "        \n",
        "    return emb_model\n",
        "\n",
        "force_download = False      # to download glove model even if the vectors model has been already stored. Mainly for testing purposes\n",
        "\n",
        "glove_embeddings = download_glove_emb(force_download)"
      ]
    },
    {
      "cell_type": "code",
      "execution_count": 23,
      "metadata": {
        "colab": {
          "base_uri": "https://localhost:8080/"
        },
        "id": "jEN9IL3-_lYt",
        "outputId": "b60c7abd-885d-45b2-c6e2-ea866887d021"
      },
      "outputs": [
        {
          "output_type": "stream",
          "name": "stdout",
          "text": [
            "Total number of unique words in dataset: 339919\n",
            "Total OOV terms: 222250 (65.38%)\n",
            "Some OOV terms: ['61yard', 'kalplerimize', 'atores', 'mblo', '4ey', 'lordmileculeros', 'w7msjcmsv9lz', '22hrs', 'ninthinning', 'pantalons']\n"
          ]
        }
      ],
      "source": [
        "def check_OOV_terms(embedding_model: gensim.models.keyedvectors.KeyedVectors, vocab):\n",
        "    \"\"\"\n",
        "        Given the embedding model and the unique words in the dataframe, determines the out-of-vocabulary words \n",
        "    \"\"\"\n",
        "    oov_words = []\n",
        "    idx_oov_words = []\n",
        "\n",
        "    if embedding_model is None:\n",
        "        print('WARNING: empty embeddings model')\n",
        "\n",
        "    else: \n",
        "        for word in vocab.unique_words:\n",
        "            try: \n",
        "                embedding_model[word]\n",
        "            except:\n",
        "                oov_words.append(word) \n",
        "                idx_oov_words.append(vocab.word2int[word]) \n",
        "        \n",
        "        print(\"Total number of unique words in dataset:\",len(vocab.unique_words))\n",
        "        print(\"Total OOV terms: {0} ({1:.2f}%)\".format(len(oov_words), (float(len(oov_words)) / len(vocab.unique_words))*100))\n",
        "        print(\"Some OOV terms:\",random.sample(oov_words,10))\n",
        "    \n",
        "    return oov_words, idx_oov_words\n",
        "\n",
        "oov_words, idx_oov_words = check_OOV_terms(glove_embeddings,vocab)"
      ]
    },
    {
      "cell_type": "code",
      "execution_count": 24,
      "metadata": {
        "colab": {
          "base_uri": "https://localhost:8080/"
        },
        "id": "ObR4Tt41_lYt",
        "outputId": "b42d288d-4742-47e9-bf63-b2d46a9483c5"
      },
      "outputs": [
        {
          "output_type": "stream",
          "name": "stdout",
          "text": [
            "Building embedding matrix...\n",
            "Embedding matrix shape: (339920, 300)\n"
          ]
        }
      ],
      "source": [
        "def build_embedding_matrix(emb_model,vocab) -> np.ndarray:\n",
        "    \"\"\"\n",
        "        If the embedding for the word is present, add it to the embedding_matrix, otherwise insert a vector of random values.\n",
        "        Return the embedding matrix\n",
        "    \"\"\"\n",
        "    if emb_model is None:\n",
        "        print('WARNING: empty embeddings model')\n",
        "        return None\n",
        "    \n",
        "    print('Building embedding matrix...')\n",
        "\n",
        "    embedding_dimension = 300 #how many numbers each emb vector is composed of                                                           \n",
        "    embedding_matrix = np.zeros((len(vocab.word2int)+1, embedding_dimension), dtype=np.float32)   #create a matrix initialized with all zeros \n",
        "\n",
        "    for word, idx in vocab.word2int.items():\n",
        "        try:\n",
        "            embedding_vector = emb_model[word]\n",
        "        except (KeyError, TypeError):\n",
        "            embedding_vector = np.random.uniform(low=-0.05, high=0.05, size=embedding_dimension)\n",
        "\n",
        "        embedding_matrix[idx] = embedding_vector     #assign the retrived or the generated vector to the corresponding index \n",
        "    \n",
        "    print(f\"Embedding matrix shape: {embedding_matrix.shape}\")\n",
        "\n",
        "    return embedding_matrix\n",
        "\n",
        "embedding_matrix = build_embedding_matrix(glove_embeddings, vocab)"
      ]
    },
    {
      "cell_type": "code",
      "execution_count": 25,
      "metadata": {
        "colab": {
          "base_uri": "https://localhost:8080/",
          "height": 299
        },
        "id": "GZNuSQlx_lYt",
        "outputId": "51aeb4ed-3298-4531-9262-0624118d1b06"
      },
      "outputs": [
        {
          "output_type": "execute_result",
          "data": {
            "text/plain": [
              "        0         1         2         3         4         5         6    \\\n",
              "0  0.000000  0.000000  0.000000  0.000000  0.000000  0.000000  0.000000   \n",
              "1  0.004881  0.021519  0.010276  0.004488 -0.007635  0.014589 -0.006241   \n",
              "2  0.040656  0.027405 -0.016685 -0.041890 -0.009276 -0.026777 -0.036751   \n",
              "3 -0.032534 -0.017201  0.018035 -0.043679  0.010725 -0.002235 -0.021600   \n",
              "4 -0.071086  0.089017  0.430820 -0.293740  0.653990  0.511150 -0.423540   \n",
              "\n",
              "        7         8         9    ...       290       291       292       293  \\\n",
              "0  0.000000  0.000000  0.000000  ...  0.000000  0.000000  0.000000  0.000000   \n",
              "1  0.039177  0.046366 -0.011656  ... -0.013142 -0.036310  0.032212 -0.031015   \n",
              "2 -0.044657  0.022559 -0.048857  ...  0.023988  0.039806  0.017258  0.002894   \n",
              "3 -0.026159  0.001451 -0.013207  ... -0.005868 -0.001359 -0.005163  0.006785   \n",
              "4 -0.723190  0.254260  0.335690  ... -0.440880 -0.368470  0.148430 -0.538380   \n",
              "\n",
              "        294       295       296       297       298       299  \n",
              "0  0.000000  0.000000  0.000000  0.000000  0.000000  0.000000  \n",
              "1  0.001132 -0.027568 -0.040216  0.036219  0.047292  0.046083  \n",
              "2 -0.019555  0.049796 -0.013781 -0.002935 -0.012175  0.047953  \n",
              "3  0.012117 -0.000182  0.036679  0.012773 -0.009857 -0.008331  \n",
              "4 -0.386500 -0.902060  0.069535  0.806010 -0.042442 -0.111990  \n",
              "\n",
              "[5 rows x 300 columns]"
            ],
            "text/html": [
              "\n",
              "  <div id=\"df-04028a8b-5afa-4008-9008-febe2223e006\">\n",
              "    <div class=\"colab-df-container\">\n",
              "      <div>\n",
              "<style scoped>\n",
              "    .dataframe tbody tr th:only-of-type {\n",
              "        vertical-align: middle;\n",
              "    }\n",
              "\n",
              "    .dataframe tbody tr th {\n",
              "        vertical-align: top;\n",
              "    }\n",
              "\n",
              "    .dataframe thead th {\n",
              "        text-align: right;\n",
              "    }\n",
              "</style>\n",
              "<table border=\"1\" class=\"dataframe\">\n",
              "  <thead>\n",
              "    <tr style=\"text-align: right;\">\n",
              "      <th></th>\n",
              "      <th>0</th>\n",
              "      <th>1</th>\n",
              "      <th>2</th>\n",
              "      <th>3</th>\n",
              "      <th>4</th>\n",
              "      <th>5</th>\n",
              "      <th>6</th>\n",
              "      <th>7</th>\n",
              "      <th>8</th>\n",
              "      <th>9</th>\n",
              "      <th>...</th>\n",
              "      <th>290</th>\n",
              "      <th>291</th>\n",
              "      <th>292</th>\n",
              "      <th>293</th>\n",
              "      <th>294</th>\n",
              "      <th>295</th>\n",
              "      <th>296</th>\n",
              "      <th>297</th>\n",
              "      <th>298</th>\n",
              "      <th>299</th>\n",
              "    </tr>\n",
              "  </thead>\n",
              "  <tbody>\n",
              "    <tr>\n",
              "      <th>0</th>\n",
              "      <td>0.000000</td>\n",
              "      <td>0.000000</td>\n",
              "      <td>0.000000</td>\n",
              "      <td>0.000000</td>\n",
              "      <td>0.000000</td>\n",
              "      <td>0.000000</td>\n",
              "      <td>0.000000</td>\n",
              "      <td>0.000000</td>\n",
              "      <td>0.000000</td>\n",
              "      <td>0.000000</td>\n",
              "      <td>...</td>\n",
              "      <td>0.000000</td>\n",
              "      <td>0.000000</td>\n",
              "      <td>0.000000</td>\n",
              "      <td>0.000000</td>\n",
              "      <td>0.000000</td>\n",
              "      <td>0.000000</td>\n",
              "      <td>0.000000</td>\n",
              "      <td>0.000000</td>\n",
              "      <td>0.000000</td>\n",
              "      <td>0.000000</td>\n",
              "    </tr>\n",
              "    <tr>\n",
              "      <th>1</th>\n",
              "      <td>0.004881</td>\n",
              "      <td>0.021519</td>\n",
              "      <td>0.010276</td>\n",
              "      <td>0.004488</td>\n",
              "      <td>-0.007635</td>\n",
              "      <td>0.014589</td>\n",
              "      <td>-0.006241</td>\n",
              "      <td>0.039177</td>\n",
              "      <td>0.046366</td>\n",
              "      <td>-0.011656</td>\n",
              "      <td>...</td>\n",
              "      <td>-0.013142</td>\n",
              "      <td>-0.036310</td>\n",
              "      <td>0.032212</td>\n",
              "      <td>-0.031015</td>\n",
              "      <td>0.001132</td>\n",
              "      <td>-0.027568</td>\n",
              "      <td>-0.040216</td>\n",
              "      <td>0.036219</td>\n",
              "      <td>0.047292</td>\n",
              "      <td>0.046083</td>\n",
              "    </tr>\n",
              "    <tr>\n",
              "      <th>2</th>\n",
              "      <td>0.040656</td>\n",
              "      <td>0.027405</td>\n",
              "      <td>-0.016685</td>\n",
              "      <td>-0.041890</td>\n",
              "      <td>-0.009276</td>\n",
              "      <td>-0.026777</td>\n",
              "      <td>-0.036751</td>\n",
              "      <td>-0.044657</td>\n",
              "      <td>0.022559</td>\n",
              "      <td>-0.048857</td>\n",
              "      <td>...</td>\n",
              "      <td>0.023988</td>\n",
              "      <td>0.039806</td>\n",
              "      <td>0.017258</td>\n",
              "      <td>0.002894</td>\n",
              "      <td>-0.019555</td>\n",
              "      <td>0.049796</td>\n",
              "      <td>-0.013781</td>\n",
              "      <td>-0.002935</td>\n",
              "      <td>-0.012175</td>\n",
              "      <td>0.047953</td>\n",
              "    </tr>\n",
              "    <tr>\n",
              "      <th>3</th>\n",
              "      <td>-0.032534</td>\n",
              "      <td>-0.017201</td>\n",
              "      <td>0.018035</td>\n",
              "      <td>-0.043679</td>\n",
              "      <td>0.010725</td>\n",
              "      <td>-0.002235</td>\n",
              "      <td>-0.021600</td>\n",
              "      <td>-0.026159</td>\n",
              "      <td>0.001451</td>\n",
              "      <td>-0.013207</td>\n",
              "      <td>...</td>\n",
              "      <td>-0.005868</td>\n",
              "      <td>-0.001359</td>\n",
              "      <td>-0.005163</td>\n",
              "      <td>0.006785</td>\n",
              "      <td>0.012117</td>\n",
              "      <td>-0.000182</td>\n",
              "      <td>0.036679</td>\n",
              "      <td>0.012773</td>\n",
              "      <td>-0.009857</td>\n",
              "      <td>-0.008331</td>\n",
              "    </tr>\n",
              "    <tr>\n",
              "      <th>4</th>\n",
              "      <td>-0.071086</td>\n",
              "      <td>0.089017</td>\n",
              "      <td>0.430820</td>\n",
              "      <td>-0.293740</td>\n",
              "      <td>0.653990</td>\n",
              "      <td>0.511150</td>\n",
              "      <td>-0.423540</td>\n",
              "      <td>-0.723190</td>\n",
              "      <td>0.254260</td>\n",
              "      <td>0.335690</td>\n",
              "      <td>...</td>\n",
              "      <td>-0.440880</td>\n",
              "      <td>-0.368470</td>\n",
              "      <td>0.148430</td>\n",
              "      <td>-0.538380</td>\n",
              "      <td>-0.386500</td>\n",
              "      <td>-0.902060</td>\n",
              "      <td>0.069535</td>\n",
              "      <td>0.806010</td>\n",
              "      <td>-0.042442</td>\n",
              "      <td>-0.111990</td>\n",
              "    </tr>\n",
              "  </tbody>\n",
              "</table>\n",
              "<p>5 rows × 300 columns</p>\n",
              "</div>\n",
              "      <button class=\"colab-df-convert\" onclick=\"convertToInteractive('df-04028a8b-5afa-4008-9008-febe2223e006')\"\n",
              "              title=\"Convert this dataframe to an interactive table.\"\n",
              "              style=\"display:none;\">\n",
              "        \n",
              "  <svg xmlns=\"http://www.w3.org/2000/svg\" height=\"24px\"viewBox=\"0 0 24 24\"\n",
              "       width=\"24px\">\n",
              "    <path d=\"M0 0h24v24H0V0z\" fill=\"none\"/>\n",
              "    <path d=\"M18.56 5.44l.94 2.06.94-2.06 2.06-.94-2.06-.94-.94-2.06-.94 2.06-2.06.94zm-11 1L8.5 8.5l.94-2.06 2.06-.94-2.06-.94L8.5 2.5l-.94 2.06-2.06.94zm10 10l.94 2.06.94-2.06 2.06-.94-2.06-.94-.94-2.06-.94 2.06-2.06.94z\"/><path d=\"M17.41 7.96l-1.37-1.37c-.4-.4-.92-.59-1.43-.59-.52 0-1.04.2-1.43.59L10.3 9.45l-7.72 7.72c-.78.78-.78 2.05 0 2.83L4 21.41c.39.39.9.59 1.41.59.51 0 1.02-.2 1.41-.59l7.78-7.78 2.81-2.81c.8-.78.8-2.07 0-2.86zM5.41 20L4 18.59l7.72-7.72 1.47 1.35L5.41 20z\"/>\n",
              "  </svg>\n",
              "      </button>\n",
              "      \n",
              "  <style>\n",
              "    .colab-df-container {\n",
              "      display:flex;\n",
              "      flex-wrap:wrap;\n",
              "      gap: 12px;\n",
              "    }\n",
              "\n",
              "    .colab-df-convert {\n",
              "      background-color: #E8F0FE;\n",
              "      border: none;\n",
              "      border-radius: 50%;\n",
              "      cursor: pointer;\n",
              "      display: none;\n",
              "      fill: #1967D2;\n",
              "      height: 32px;\n",
              "      padding: 0 0 0 0;\n",
              "      width: 32px;\n",
              "    }\n",
              "\n",
              "    .colab-df-convert:hover {\n",
              "      background-color: #E2EBFA;\n",
              "      box-shadow: 0px 1px 2px rgba(60, 64, 67, 0.3), 0px 1px 3px 1px rgba(60, 64, 67, 0.15);\n",
              "      fill: #174EA6;\n",
              "    }\n",
              "\n",
              "    [theme=dark] .colab-df-convert {\n",
              "      background-color: #3B4455;\n",
              "      fill: #D2E3FC;\n",
              "    }\n",
              "\n",
              "    [theme=dark] .colab-df-convert:hover {\n",
              "      background-color: #434B5C;\n",
              "      box-shadow: 0px 1px 3px 1px rgba(0, 0, 0, 0.15);\n",
              "      filter: drop-shadow(0px 1px 2px rgba(0, 0, 0, 0.3));\n",
              "      fill: #FFFFFF;\n",
              "    }\n",
              "  </style>\n",
              "\n",
              "      <script>\n",
              "        const buttonEl =\n",
              "          document.querySelector('#df-04028a8b-5afa-4008-9008-febe2223e006 button.colab-df-convert');\n",
              "        buttonEl.style.display =\n",
              "          google.colab.kernel.accessAllowed ? 'block' : 'none';\n",
              "\n",
              "        async function convertToInteractive(key) {\n",
              "          const element = document.querySelector('#df-04028a8b-5afa-4008-9008-febe2223e006');\n",
              "          const dataTable =\n",
              "            await google.colab.kernel.invokeFunction('convertToInteractive',\n",
              "                                                     [key], {});\n",
              "          if (!dataTable) return;\n",
              "\n",
              "          const docLinkHtml = 'Like what you see? Visit the ' +\n",
              "            '<a target=\"_blank\" href=https://colab.research.google.com/notebooks/data_table.ipynb>data table notebook</a>'\n",
              "            + ' to learn more about interactive tables.';\n",
              "          element.innerHTML = '';\n",
              "          dataTable['output_type'] = 'display_data';\n",
              "          await google.colab.output.renderOutput(dataTable, element);\n",
              "          const docLink = document.createElement('div');\n",
              "          docLink.innerHTML = docLinkHtml;\n",
              "          element.appendChild(docLink);\n",
              "        }\n",
              "      </script>\n",
              "    </div>\n",
              "  </div>\n",
              "  "
            ]
          },
          "metadata": {},
          "execution_count": 25
        }
      ],
      "source": [
        "pd.DataFrame(embedding_matrix).head()"
      ]
    },
    {
      "cell_type": "code",
      "execution_count": 26,
      "metadata": {
        "colab": {
          "base_uri": "https://localhost:8080/"
        },
        "id": "aOLaQlNF_lYu",
        "outputId": "0e8c440b-13c6-4de7-ad6d-4867631c5658"
      },
      "outputs": [
        {
          "output_type": "stream",
          "name": "stdout",
          "text": [
            "Double check OOV number: 145741\n",
            "Double check OOV number: 90390\n",
            "Double check OOV number: 26803\n"
          ]
        }
      ],
      "source": [
        "def check_id_corr(glove: gensim.models.keyedvectors.KeyedVectors, vocab, matrix, dataframe):\n",
        "    \"\"\"\n",
        "        Checks whether the numberized dataframe and the index of the embedding matrix correspond\n",
        "    \"\"\"\n",
        "    if not glove:\n",
        "        print('WARNING: empty model, remember to download GloVe first or set force_dowload to True')\n",
        "        return \n",
        "    oov_words_ = []\n",
        "\n",
        "    for indexed_sentence in dataframe['idx_tweet']:\n",
        "\n",
        "        for token in indexed_sentence:\n",
        "            embedding = matrix[token]\n",
        "            word = vocab.int2word[token]\n",
        "            if word in glove.vocab:\n",
        "                assert(np.array_equal(embedding,glove[word]))\n",
        "            else:\n",
        "                oov_words_.append(word)\n",
        "\n",
        "    print('Double check OOV number:',len(set(oov_words_)))\n",
        "\n",
        "check_id_corr(glove_embeddings,vocab,embedding_matrix,train)\n",
        "check_id_corr(glove_embeddings,vocab,embedding_matrix,val)\n",
        "check_id_corr(glove_embeddings,vocab,embedding_matrix,test)"
      ]
    },
    {
      "cell_type": "markdown",
      "metadata": {
        "id": "0Qqtas4y_lYu"
      },
      "source": [
        "# Model design"
      ]
    },
    {
      "cell_type": "code",
      "execution_count": 27,
      "metadata": {
        "id": "NlvSOA61_lYu"
      },
      "outputs": [],
      "source": [
        "#pytorch imports\n",
        "\n",
        "import torch.nn as nn\n",
        "import torch.optim as optim\n",
        "import torch.nn.utils.rnn as rnn\n",
        "import torch.nn.functional as F\n",
        "\n",
        "from torch.nn.utils.rnn import pack_padded_sequence, pad_packed_sequence\n",
        "\n",
        "#scikit-learn imports \n",
        "from sklearn.metrics import f1_score, accuracy_score"
      ]
    },
    {
      "cell_type": "code",
      "execution_count": 28,
      "metadata": {
        "id": "YuUIO3B7_lYu"
      },
      "outputs": [],
      "source": [
        "class Custom_model(nn.Module):\n",
        "    \"\"\"\n",
        "        Class defining our model architecture  \n",
        "    \"\"\"\n",
        "    def __init__(self, emb_matrix: np.ndarray, model_param : dict, device) :\n",
        "        super().__init__()\n",
        "\n",
        "        self.device = device\n",
        "        self.model_param = model_param\n",
        "\n",
        "        self.embedding_layer, self.word_embedding_dim = self.build_emb_layer(emb_matrix,model_param['pad_idx'], model_param['freeze_embedding'])\n",
        "\n",
        "        self.rnn = nn.LSTM(self.word_embedding_dim, self.word_embedding_dim, batch_first = True) \n",
        "            \n",
        "        self.drop_layer = nn.Dropout(p=0.5) \n",
        "\n",
        "        self.classifier = nn.Linear(self.word_embedding_dim,1)   \n",
        "\n",
        "        self.to(self.device)  #move model to device , 'gpu' if possible \n",
        "\n",
        "    def build_emb_layer(self, weights_matrix: np.ndarray, pad_idx : int, freeze = True):\n",
        "    \n",
        "        matrix = torch.Tensor(weights_matrix).to(self.device)   #the embedding matrix \n",
        "        _ , embedding_dim = matrix.shape \n",
        "\n",
        "        emb_layer = nn.Embedding.from_pretrained(matrix, freeze=freeze, padding_idx = pad_idx)   #load pretrained weights in the layer and make it non-trainable (TODO: trainable ? )\n",
        "        \n",
        "        return emb_layer, embedding_dim\n",
        "        \n",
        "\n",
        "    def pad_batch(self,batch: list):    #pad each sentece of a batch to a common length\n",
        "        \"\"\"\n",
        "            Input:  List of Tensors of variable length\n",
        "            Output: Batch of tensors all padded to the same length \n",
        "        \"\"\"\n",
        "        batch = batch.copy() \n",
        "\n",
        "        padded_batch = rnn.pad_sequence(batch,batch_first = True, padding_value = self.model_param['pad_idx'])\n",
        "\n",
        "        padded_batch = padded_batch.to(self.device)    #move tensor to gpu if possible \n",
        "\n",
        "        return padded_batch\n",
        "\n",
        "\n",
        "    def words_embedding(self, word_idxs):   #get embedding vectors for each token in sentence \n",
        "        \"\"\"\n",
        "            Input:  [batch_size, num_tokens]\n",
        "            Output: [batch_size, num_tokens, embedding_dim]\n",
        "        \"\"\"\n",
        "        return self.embedding_layer(word_idxs)\n",
        "    \n",
        "    def sentence_embedding(self, embeddings, sentence_lenghts):     #compute sentence embedding \n",
        "        \"\"\"\n",
        "            Input:  [batch_size, num_tokens, embedding_dim]\n",
        "            Output: [batch_size, embedding_dim]\n",
        "        \"\"\"\n",
        "        #take as sentence embedding the average of all the states of the rnn corresponing to each word \n",
        "\n",
        "        packed_embeddings = pack_padded_sequence(embeddings, sentence_lenghts.cpu(), batch_first=True, enforce_sorted=False)\n",
        "        packed_out, _  = self.rnn(packed_embeddings)\n",
        "\n",
        "        unpacked_out, l = pad_packed_sequence(packed_out,batch_first=True)\n",
        "\n",
        "        avg = unpacked_out.sum(dim=1).div(sentence_lenghts.unsqueeze(dim=1))\n",
        "\n",
        "        return avg\n",
        "\n",
        "    def forward(self, tweet, tweet_lengths):\n",
        "\n",
        "        #pad the sentences to have fixed size \n",
        "        padded_tweet = self.pad_batch(tweet)\n",
        "        \n",
        "        #embed each word in a sentence with a 300d vector \n",
        "        word_emb_tweet = self.words_embedding(padded_tweet)\n",
        "\n",
        "        #compute sentence embedding\n",
        "        sentence_emb_tweet = self.sentence_embedding(word_emb_tweet,tweet_lengths)\n",
        "\n",
        "        #eventual dropout \n",
        "        if self.model_param['dropout']: \n",
        "            sentence_emb_tweet = self.drop_layer(sentence_emb_tweet)\n",
        "\n",
        "        #final classification \n",
        "        predictions = self.classifier(sentence_emb_tweet)\n",
        "\n",
        "        predictions = predictions.squeeze()   #remove dim of size 1 \n",
        "\n",
        "        return predictions"
      ]
    },
    {
      "cell_type": "code",
      "execution_count": 29,
      "metadata": {
        "id": "8flR5vh8_lYv"
      },
      "outputs": [],
      "source": [
        "#compute accuracy and f1-score \n",
        "def acc_and_f1(y_true: torch.LongTensor,y_pred: torch.LongTensor):\n",
        "    \"\"\"\n",
        "        Compute accuracy and f1-score for an epoch \n",
        "    \"\"\"\n",
        "    acc = accuracy_score(y_true, y_pred)\n",
        "\n",
        "    f1 = f1_score(y_true,y_pred,average='macro')\n",
        "\n",
        "    return acc,f1"
      ]
    },
    {
      "cell_type": "code",
      "execution_count": 30,
      "metadata": {
        "id": "hjN0WFFY_lYv"
      },
      "outputs": [],
      "source": [
        "def train_loop(model: Custom_model, iterator : BucketIterator, optimizer: optim.Optimizer, criterion, device):\n",
        "    \"\"\" Args:\n",
        "         - model: the model istantiated with pre-defined hyperparameters.\n",
        "         - iterator: dataloader for passing data to the network in batches \n",
        "         - optimizer: optimizer for backward pass \n",
        "         - criterion: loss function \n",
        "         - device: 'gpu' if it's available, 'cpu' otherwise \n",
        "    \"\"\"\n",
        "    start = time.perf_counter()\n",
        "\n",
        "    batch_loss = 0\n",
        "    \n",
        "    #aggregate all the predictions and corresponding true labels (and claim ids) in tensors \n",
        "    all_pred , all_targ, all_ids = torch.LongTensor(), torch.LongTensor(), torch.LongTensor()\n",
        "\n",
        "    model.train()\n",
        "    \n",
        "    iterator.init_epoch()  #generate and shuffles batches from dataloader #TODO: create_batches \n",
        "\n",
        "    print(\"--------- TRAINING START!\")\n",
        "\n",
        "    for batch_id, batch in enumerate(iterator.batches):\n",
        "\n",
        "        tweet_batch = [torch.LongTensor(example['tweet']) for example in batch]    #list of tensors of words id for each sentence in a batch \n",
        "\n",
        "        tweet_lengths = torch.Tensor([len(example['tweet']) for example in batch])         #lenght of each claim sentence before padding \n",
        "\n",
        "        target_labels = torch.Tensor([example['label'] for example in batch])     #label of each example in a batch\n",
        "        target_ids = torch.LongTensor([example['tweet_id'] for example in batch])  #id of each claim in a batch \n",
        "\n",
        "        #move tensors to gpu if possible \n",
        "        tweet_lengths = tweet_lengths.to(device)\n",
        "        target_labels = target_labels.to(device)    \n",
        "\n",
        "        #zero the gradients \n",
        "        model.zero_grad(set_to_none=True)\n",
        "        optimizer.zero_grad()            \n",
        "\n",
        "        predictions = model(tweet_batch, tweet_lengths)   #generate predictions \n",
        "\n",
        "        loss = criterion(predictions, target_labels)      #compute the loss \n",
        "\n",
        "\n",
        "        pred = (predictions > 0.0 ).int().cpu()              #get class label \n",
        "\n",
        "        #concatenate the new tensors with the one computed in previous steps\n",
        "        all_pred = torch.cat((all_pred,pred))          \n",
        "        all_targ = torch.cat((all_targ,target_labels.long().cpu()))\n",
        "        all_ids = torch.cat((all_ids,target_ids))\n",
        "\n",
        "        #backward pass \n",
        "        loss.backward()\n",
        "        optimizer.step()\n",
        "\n",
        "        batch_loss += loss.item()    #accumulate batch loss \n",
        "\n",
        "\n",
        "    acc, f1 = acc_and_f1(all_targ,all_pred)\n",
        "\n",
        "    loss = batch_loss/(batch_id+1)    #mean loss \n",
        "\n",
        "    end = time.perf_counter()\n",
        "    log.debug('train epoch time: %s',end-start)\n",
        "\n",
        "    return loss, acc, f1\n",
        "\n",
        "\n",
        "def eval_loop(model: Custom_model, iterator: BucketIterator, criterion, device):\n",
        "    \"\"\" Args:\n",
        "         - model: the sequence pos tagger model istantiated with fixed hyperparameters.\n",
        "         - iterator: dataloader for passing data to the network in batches \n",
        "         - criterion: loss function \n",
        "         - device: 'gpu' if it's available, 'cpu' otherwise \n",
        "    \"\"\"\n",
        "     \n",
        "    start = time.perf_counter()\n",
        "\n",
        "    batch_loss = 0\n",
        "    \n",
        "    all_pred , all_targ, all_ids = torch.LongTensor(), torch.LongTensor(), torch.LongTensor() \n",
        "    \n",
        "    model.eval()   #model in eval mode \n",
        "    \n",
        "    iterator.init_epoch()  #TODO create_batches \n",
        "\n",
        "    with torch.no_grad(): #without computing gradients since it is evaluation loop\n",
        "\n",
        "        print(\"--------- VALIDATION START!\")\n",
        "    \n",
        "        for batch_id, batch in enumerate(iterator.batches):\n",
        "            \n",
        "            tweet_batch = [torch.LongTensor(example['tweet']) for example in batch]    #list of tensors of words id for each sentence in a batch \n",
        "\n",
        "            tweet_lengths = torch.Tensor([len(example['tweet']) for example in batch])         #lenght of each claim sentence before padding \n",
        "\n",
        "            target_labels = torch.Tensor([example['label'] for example in batch])     #label of each example in a batch\n",
        "            target_ids = torch.LongTensor([example['tweet_id'] for example in batch])  #id of each claim in a batch \n",
        "\n",
        "            #move tensors to gpu if possible \n",
        "            tweet_lengths = tweet_lengths.to(device)\n",
        "            target_labels = target_labels.to(device)    \n",
        "\n",
        "            predictions = model(tweet_batch, tweet_lengths)   #generate predictions \n",
        "\n",
        "            loss = criterion(predictions, target_labels)      #compute the loss \n",
        "\n",
        "            pred = (predictions > 0.0 ).int().cpu()         #get class label \n",
        "\n",
        "            #concatenate the new tensors with the one computed in previous steps\n",
        "            all_pred = torch.cat((all_pred,pred))          \n",
        "            all_targ = torch.cat((all_targ,target_labels.long().cpu()))\n",
        "            all_ids = torch.cat((all_ids,target_ids))\n",
        "\n",
        "            batch_loss += loss.item()   #accumulate batch loss \n",
        "            \n",
        "    acc, f1 = acc_and_f1(all_targ,all_pred)\n",
        "\n",
        "    loss = batch_loss/(batch_id+1)   #mean loss \n",
        "\n",
        "    end = time.perf_counter()\n",
        "    log.debug('eval epoch time: %s',end-start)\n",
        "\n",
        "    return loss, acc, f1, all_pred, all_targ, all_ids"
      ]
    },
    {
      "cell_type": "code",
      "execution_count": 31,
      "metadata": {
        "id": "svIUmWpB_lYw"
      },
      "outputs": [],
      "source": [
        "def train_and_eval(model: Custom_model, dataloaders, param : dict(), device):\n",
        "    \"\"\"\n",
        "        Runs the train and eval loop and keeps track of all the metrics of the training model \n",
        "    \"\"\"\n",
        "    best_f1, best_epoch = -1, -1   #init best f1 score \n",
        "\n",
        "    model_metrics = {\n",
        "        \"train_loss\": [],\n",
        "        \"train_acc\": [],\n",
        "        \"train_f1\": [],\n",
        "        \"val_loss\": [],\n",
        "        \"val_acc\": [],\n",
        "        \"val_f1\": [],\n",
        "        \"pred\": [],\n",
        "        \"targ\": [],\n",
        "        \"ids\": []\n",
        "    }\n",
        "\n",
        "    # criterion = nn.BCEWithLogitsLoss(pos_weight=param['weight_positive_class']).to(device)    #Binary CrossEntropy Loss that accept raw input and apply internally the sigmoid \n",
        "    criterion = nn.BCEWithLogitsLoss().to(device)    #Binary CrossEntropy Loss that accept raw input and apply internally the sigmoid \n",
        "\n",
        "    optimizer = optim.Adam(model.parameters(), lr=param['lr'],  weight_decay=param['weight_decay'])   #L2 regularization \n",
        "\n",
        "    train_dataloader, eval_dataloader = dataloaders   #unpack dataloaders \n",
        "\n",
        "    for epoch in range(param['n_epochs']): #epoch loop\n",
        "\n",
        "        print(\"--------- EPOCH:\", epoch+1)\n",
        "\n",
        "        start_time = time.perf_counter()\n",
        "        \n",
        "        train_metrics = train_loop(model, train_dataloader, optimizer, criterion, device) #train\n",
        "        eval_metrics = eval_loop(model, eval_dataloader, criterion, device) #eval\n",
        "        \n",
        "        end_time = time.perf_counter()\n",
        "\n",
        "        tot_epoch_time = end_time-start_time          \n",
        "\n",
        "        train_epoch_loss, train_epoch_acc, train_epoch_f1 = train_metrics\n",
        "        eval_epoch_loss, eval_epoch_acc, eval_epoch_f1, eval_epoch_pred, eval_epoch_targ, eval_epoch_ids = eval_metrics\n",
        "\n",
        "        if eval_epoch_f1 >= best_f1:\n",
        "            best_f1 = eval_epoch_f1\n",
        "            best_epoch = epoch+1\n",
        "            model_metrics['pred'] = eval_epoch_pred\n",
        "            model_metrics['targ'] = eval_epoch_targ\n",
        "            model_metrics['ids'] = eval_epoch_ids\n",
        "            if not os.path.exists('models'):        \n",
        "                os.makedirs('models')\n",
        "            torch.save(model.state_dict(),f'models/baseline.pt')\n",
        "\n",
        "\n",
        "        #log Train and Validation metrics\n",
        "        model_metrics['train_loss'].append(train_epoch_loss)\n",
        "        model_metrics['train_acc'].append(train_epoch_acc)\n",
        "        model_metrics['train_f1'].append(train_epoch_f1)\n",
        "        model_metrics['val_loss'].append(eval_epoch_loss)\n",
        "        model_metrics['val_acc'].append(eval_epoch_acc)\n",
        "        model_metrics['val_f1'].append(eval_epoch_f1)\n",
        "       \n",
        "        \n",
        "        log.debug('Elapsed time for epoch %s : %s \\n',epoch+1,tot_epoch_time)\n",
        "\n",
        "        print(f'Epoch: {epoch+1:02} | Epoch Time: {tot_epoch_time:.4f}')\n",
        "        print(f'\\tTrain Loss: {train_epoch_loss:.3f} | Train Acc: {train_epoch_acc*100:.2f}% | Train F1: {train_epoch_f1:.2f}')\n",
        "        print(f'\\t Val. Loss: {eval_epoch_loss:.3f} | Val. Acc: {eval_epoch_acc*100:.2f}% | Val. F1: {eval_epoch_f1:.2f}')\n",
        "    \n",
        "    log.debug('Best Eval F1: %s, obtained at epoch: %s \\n\\n',best_f1,best_epoch)\n",
        "\n",
        "    return model_metrics"
      ]
    },
    {
      "cell_type": "code",
      "execution_count": 32,
      "metadata": {
        "colab": {
          "base_uri": "https://localhost:8080/"
        },
        "id": "b22yHEsG_lYw",
        "outputId": "a809b009-c0cf-4950-d0e4-b287a991373c"
      },
      "outputs": [
        {
          "output_type": "stream",
          "name": "stdout",
          "text": [
            "running on cuda:0\n"
          ]
        }
      ],
      "source": [
        "#PARAMETERS, HYPERPARAMETERS AND USEFUL OBJECTS \n",
        "\n",
        "DEVICE = torch.device(\"cuda:0\" if torch.cuda.is_available() else \"cpu\")\n",
        "print(f'running on {DEVICE}')\n",
        "\n",
        "PAD_IDX = 0                     # pad index\n",
        "\n",
        "#hyperparameters\n",
        "BATCH_SIZE = 512                # number of sentences in each mini-batch\n",
        "LR = 1e-3                       # learning rate \n",
        "N_EPOCHS = 10                   # number of epochs\n",
        "WEIGHT_DECAY = 1e-5             # regularization\n",
        "\n",
        "#model parameters\n",
        "FREEZE = False                  # wheter to make the embedding layer trainable or not              \n",
        "DROPOUT = True                  # wheter to use dropout layer or not  \n",
        "\n",
        "\n",
        "#to counteract class imbalance \n",
        "# (human, bot) = train['label'].value_counts()    #number of supports and refutes in the train dataset \n",
        "# weight_positive_class = torch.Tensor([bot/human]).to(DEVICE)  #weight to give to positive class \n",
        "\n",
        "max_tokens = max(train.tweet.apply(len).max(), val.tweet.apply(len).max(), test.tweet.apply(len).max())  #max number of tokens in a sentence in the entire dataset \n",
        "\n",
        "\n",
        "#train pipeline parameters dictionary \n",
        "train_param = {\n",
        "    'lr': LR,\n",
        "    'n_epochs': N_EPOCHS,\n",
        "    'weight_decay': WEIGHT_DECAY,\n",
        "    # 'weight_positive_class': weight_positive_class\n",
        "    }\n",
        "\n",
        "#model parameters dictionary\n",
        "model_param = {\n",
        "    'pad_idx' : PAD_IDX,\n",
        "    'max_tokens' : max_tokens,\n",
        "    'freeze_embedding' : FREEZE,  \n",
        "    'dropout' : DROPOUT\n",
        "}\n",
        "\n",
        "#create dataloaders \n",
        "train_dataloader,val_dataloader,test_dataloader = create_dataloaders(BATCH_SIZE, train, val, test)"
      ]
    },
    {
      "cell_type": "code",
      "execution_count": 33,
      "metadata": {
        "id": "C1VLRSzS_lYx"
      },
      "outputs": [],
      "source": [
        "# clear gpu memory \n",
        "import gc\n",
        "def clean_gpu_cache():\n",
        "    gc.collect()\n",
        "    torch.cuda.empty_cache()\n",
        "\n",
        "all_models_metrics = {}\n",
        "clean_gpu_cache()"
      ]
    },
    {
      "cell_type": "code",
      "execution_count": 34,
      "metadata": {
        "id": "k60OuqRL_lYy"
      },
      "outputs": [],
      "source": [
        "model = Custom_model(embedding_matrix, model_param, DEVICE)"
      ]
    },
    {
      "cell_type": "code",
      "source": [
        "model_metrics = train_and_eval(model, (train_dataloader,val_dataloader), train_param, DEVICE)"
      ],
      "metadata": {
        "colab": {
          "base_uri": "https://localhost:8080/"
        },
        "id": "W0x_WlbSdf0n",
        "outputId": "0dd3532d-13f4-4179-b0b9-9ad13036cb8b"
      },
      "execution_count": 35,
      "outputs": [
        {
          "output_type": "stream",
          "name": "stdout",
          "text": [
            "--------- EPOCH: 1\n",
            "--------- TRAINING START!\n"
          ]
        },
        {
          "output_type": "stream",
          "name": "stderr",
          "text": [
            "DEBUG:logger:train epoch time: 89.85485076700024\n"
          ]
        },
        {
          "output_type": "stream",
          "name": "stdout",
          "text": [
            "--------- VALIDATION START!\n"
          ]
        },
        {
          "output_type": "stream",
          "name": "stderr",
          "text": [
            "DEBUG:logger:eval epoch time: 11.431224368000585\n",
            "DEBUG:logger:Elapsed time for epoch 1 : 101.29190990500047 \n",
            "\n"
          ]
        },
        {
          "output_type": "stream",
          "name": "stdout",
          "text": [
            "Epoch: 01 | Epoch Time: 101.2919\n",
            "\tTrain Loss: 0.618 | Train Acc: 64.65% | Train F1: 0.62\n",
            "\t Val. Loss: 0.668 | Val. Acc: 60.76% | Val. F1: 0.59\n",
            "--------- EPOCH: 2\n",
            "--------- TRAINING START!\n"
          ]
        },
        {
          "output_type": "stream",
          "name": "stderr",
          "text": [
            "DEBUG:logger:train epoch time: 90.00035475700042\n"
          ]
        },
        {
          "output_type": "stream",
          "name": "stdout",
          "text": [
            "--------- VALIDATION START!\n"
          ]
        },
        {
          "output_type": "stream",
          "name": "stderr",
          "text": [
            "DEBUG:logger:eval epoch time: 11.555681121999442\n",
            "DEBUG:logger:Elapsed time for epoch 2 : 101.56976613400002 \n",
            "\n"
          ]
        },
        {
          "output_type": "stream",
          "name": "stdout",
          "text": [
            "Epoch: 02 | Epoch Time: 101.5698\n",
            "\tTrain Loss: 0.576 | Train Acc: 68.40% | Train F1: 0.67\n",
            "\t Val. Loss: 0.667 | Val. Acc: 61.16% | Val. F1: 0.60\n",
            "--------- EPOCH: 3\n",
            "--------- TRAINING START!\n"
          ]
        },
        {
          "output_type": "stream",
          "name": "stderr",
          "text": [
            "DEBUG:logger:train epoch time: 90.51865888300017\n"
          ]
        },
        {
          "output_type": "stream",
          "name": "stdout",
          "text": [
            "--------- VALIDATION START!\n"
          ]
        },
        {
          "output_type": "stream",
          "name": "stderr",
          "text": [
            "DEBUG:logger:eval epoch time: 10.318734929999664\n",
            "DEBUG:logger:Elapsed time for epoch 3 : 100.8510778660002 \n",
            "\n"
          ]
        },
        {
          "output_type": "stream",
          "name": "stdout",
          "text": [
            "Epoch: 03 | Epoch Time: 100.8511\n",
            "\tTrain Loss: 0.550 | Train Acc: 70.34% | Train F1: 0.69\n",
            "\t Val. Loss: 0.682 | Val. Acc: 61.41% | Val. F1: 0.60\n",
            "--------- EPOCH: 4\n",
            "--------- TRAINING START!\n"
          ]
        },
        {
          "output_type": "stream",
          "name": "stderr",
          "text": [
            "DEBUG:logger:train epoch time: 90.75696868100022\n"
          ]
        },
        {
          "output_type": "stream",
          "name": "stdout",
          "text": [
            "--------- VALIDATION START!\n"
          ]
        },
        {
          "output_type": "stream",
          "name": "stderr",
          "text": [
            "DEBUG:logger:eval epoch time: 11.448587179999777\n",
            "DEBUG:logger:Elapsed time for epoch 4 : 102.21813577099965 \n",
            "\n"
          ]
        },
        {
          "output_type": "stream",
          "name": "stdout",
          "text": [
            "Epoch: 04 | Epoch Time: 102.2181\n",
            "\tTrain Loss: 0.522 | Train Acc: 72.17% | Train F1: 0.71\n",
            "\t Val. Loss: 0.697 | Val. Acc: 60.86% | Val. F1: 0.60\n",
            "--------- EPOCH: 5\n",
            "--------- TRAINING START!\n"
          ]
        },
        {
          "output_type": "stream",
          "name": "stderr",
          "text": [
            "DEBUG:logger:train epoch time: 90.34819376399992\n"
          ]
        },
        {
          "output_type": "stream",
          "name": "stdout",
          "text": [
            "--------- VALIDATION START!\n"
          ]
        },
        {
          "output_type": "stream",
          "name": "stderr",
          "text": [
            "DEBUG:logger:eval epoch time: 10.912935289000416\n",
            "DEBUG:logger:Elapsed time for epoch 5 : 101.27817464700001 \n",
            "\n"
          ]
        },
        {
          "output_type": "stream",
          "name": "stdout",
          "text": [
            "Epoch: 05 | Epoch Time: 101.2782\n",
            "\tTrain Loss: 0.491 | Train Acc: 74.25% | Train F1: 0.73\n",
            "\t Val. Loss: 0.725 | Val. Acc: 60.97% | Val. F1: 0.60\n",
            "--------- EPOCH: 6\n",
            "--------- TRAINING START!\n"
          ]
        },
        {
          "output_type": "stream",
          "name": "stderr",
          "text": [
            "DEBUG:logger:train epoch time: 91.12842043\n"
          ]
        },
        {
          "output_type": "stream",
          "name": "stdout",
          "text": [
            "--------- VALIDATION START!\n"
          ]
        },
        {
          "output_type": "stream",
          "name": "stderr",
          "text": [
            "DEBUG:logger:eval epoch time: 10.611935236000136\n",
            "DEBUG:logger:Elapsed time for epoch 6 : 101.75849388799998 \n",
            "\n"
          ]
        },
        {
          "output_type": "stream",
          "name": "stdout",
          "text": [
            "Epoch: 06 | Epoch Time: 101.7585\n",
            "\tTrain Loss: 0.456 | Train Acc: 76.36% | Train F1: 0.75\n",
            "\t Val. Loss: 0.779 | Val. Acc: 60.50% | Val. F1: 0.60\n",
            "--------- EPOCH: 7\n",
            "--------- TRAINING START!\n"
          ]
        },
        {
          "output_type": "stream",
          "name": "stderr",
          "text": [
            "DEBUG:logger:train epoch time: 90.35496236800009\n"
          ]
        },
        {
          "output_type": "stream",
          "name": "stdout",
          "text": [
            "--------- VALIDATION START!\n"
          ]
        },
        {
          "output_type": "stream",
          "name": "stderr",
          "text": [
            "DEBUG:logger:eval epoch time: 10.200442506999934\n",
            "DEBUG:logger:Elapsed time for epoch 7 : 100.57138243900044 \n",
            "\n"
          ]
        },
        {
          "output_type": "stream",
          "name": "stdout",
          "text": [
            "Epoch: 07 | Epoch Time: 100.5714\n",
            "\tTrain Loss: 0.423 | Train Acc: 78.29% | Train F1: 0.77\n",
            "\t Val. Loss: 0.843 | Val. Acc: 60.01% | Val. F1: 0.59\n",
            "--------- EPOCH: 8\n",
            "--------- TRAINING START!\n"
          ]
        },
        {
          "output_type": "stream",
          "name": "stderr",
          "text": [
            "DEBUG:logger:train epoch time: 90.10825671800012\n"
          ]
        },
        {
          "output_type": "stream",
          "name": "stdout",
          "text": [
            "--------- VALIDATION START!\n"
          ]
        },
        {
          "output_type": "stream",
          "name": "stderr",
          "text": [
            "DEBUG:logger:eval epoch time: 12.070423624999421\n",
            "DEBUG:logger:Elapsed time for epoch 8 : 102.19136151299972 \n",
            "\n"
          ]
        },
        {
          "output_type": "stream",
          "name": "stdout",
          "text": [
            "Epoch: 08 | Epoch Time: 102.1914\n",
            "\tTrain Loss: 0.392 | Train Acc: 80.04% | Train F1: 0.79\n",
            "\t Val. Loss: 0.925 | Val. Acc: 59.44% | Val. F1: 0.59\n",
            "--------- EPOCH: 9\n",
            "--------- TRAINING START!\n"
          ]
        },
        {
          "output_type": "stream",
          "name": "stderr",
          "text": [
            "DEBUG:logger:train epoch time: 90.66450149200045\n"
          ]
        },
        {
          "output_type": "stream",
          "name": "stdout",
          "text": [
            "--------- VALIDATION START!\n"
          ]
        },
        {
          "output_type": "stream",
          "name": "stderr",
          "text": [
            "DEBUG:logger:eval epoch time: 10.766528599000594\n",
            "DEBUG:logger:Elapsed time for epoch 9 : 101.44982810299916 \n",
            "\n"
          ]
        },
        {
          "output_type": "stream",
          "name": "stdout",
          "text": [
            "Epoch: 09 | Epoch Time: 101.4498\n",
            "\tTrain Loss: 0.366 | Train Acc: 81.45% | Train F1: 0.81\n",
            "\t Val. Loss: 0.956 | Val. Acc: 59.45% | Val. F1: 0.59\n",
            "--------- EPOCH: 10\n",
            "--------- TRAINING START!\n"
          ]
        },
        {
          "output_type": "stream",
          "name": "stderr",
          "text": [
            "DEBUG:logger:train epoch time: 91.57965370499915\n"
          ]
        },
        {
          "output_type": "stream",
          "name": "stdout",
          "text": [
            "--------- VALIDATION START!\n"
          ]
        },
        {
          "output_type": "stream",
          "name": "stderr",
          "text": [
            "DEBUG:logger:eval epoch time: 10.501806080000279\n",
            "DEBUG:logger:Elapsed time for epoch 10 : 102.10047950699936 \n",
            "\n",
            "DEBUG:logger:Best Eval F1: 0.6045763467224006, obtained at epoch: 3 \n",
            "\n",
            "\n"
          ]
        },
        {
          "output_type": "stream",
          "name": "stdout",
          "text": [
            "Epoch: 10 | Epoch Time: 102.1005\n",
            "\tTrain Loss: 0.345 | Train Acc: 82.53% | Train F1: 0.82\n",
            "\t Val. Loss: 1.086 | Val. Acc: 58.87% | Val. F1: 0.58\n"
          ]
        }
      ]
    },
    {
      "cell_type": "code",
      "source": [
        "import matplotlib.pyplot as plt\n",
        "\n",
        "cols = ['train_loss','val_loss', 'train_acc','val_acc', 'train_f1', 'val_f1']\n",
        "metrics = ['Loss', 'Accuracy', 'F1-Score']\n",
        "colors = ['lightsalmon', 'red', 'lightblue', 'blue', 'lightgreen', 'green']\n",
        "\n",
        "def plot_metrics(model_metrics, cols: list, metrics: list, colors: list):\n",
        "\n",
        "    fig, axes = plt.subplots(nrows=1, ncols=len(metrics), figsize=(20, 5))\n",
        "\n",
        "    for ax, col in zip(axes, metrics):\n",
        "        ax.set_title(col)\n",
        "\n",
        "    num_metric = 0\n",
        "    for plt_col in range(len(metrics)):\n",
        "        axes[plt_col].plot(model_metrics[cols[num_metric]], color= colors[num_metric], label = 'Train') #plot train metrics\n",
        "        axes[plt_col].plot(model_metrics[cols[num_metric+1]], color= colors[num_metric+1], label = 'Val') #plot validation metrics\n",
        "        axes[plt_col].legend(loc=\"best\")\n",
        "        num_metric += 2\n",
        "\n",
        "    fig.tight_layout()\n",
        "    plt.show();"
      ],
      "metadata": {
        "id": "Vr0t-8J8vm_R"
      },
      "execution_count": 36,
      "outputs": []
    },
    {
      "cell_type": "code",
      "source": [
        "plot_metrics(model_metrics, cols,metrics,colors)"
      ],
      "metadata": {
        "colab": {
          "base_uri": "https://localhost:8080/",
          "height": 305
        },
        "id": "owlYiYqav4iE",
        "outputId": "28cc103d-d696-465f-f4c3-3c65e680858a"
      },
      "execution_count": 37,
      "outputs": [
        {
          "output_type": "display_data",
          "data": {
            "text/plain": [
              "<Figure size 1440x360 with 3 Axes>"
            ],
            "image/png": "[encoded data removed]"
          },
          "metadata": {
            "needs_background": "light"
          }
        }
      ]
    },
    {
      "cell_type": "markdown",
      "source": [
        "# Test set"
      ],
      "metadata": {
        "id": "pbVx4ajMwJ0E"
      }
    },
    {
      "cell_type": "code",
      "source": [
        "best_model = Custom_model(embedding_matrix, model_param, DEVICE)\n",
        "best_model.load_state_dict(torch.load('models/baseline.pt'))\n",
        "\n",
        "criterion = nn.BCEWithLogitsLoss().to(DEVICE)    \n",
        "\n",
        "best_metrics = eval_loop(best_model,test_dataloader,criterion,DEVICE)"
      ],
      "metadata": {
        "colab": {
          "base_uri": "https://localhost:8080/"
        },
        "id": "mJttf_-HwOv9",
        "outputId": "6f31687e-ba5e-4d81-ed2a-644e3b62bac7"
      },
      "execution_count": 38,
      "outputs": [
        {
          "output_type": "execute_result",
          "data": {
            "text/plain": [
              "<All keys matched successfully>"
            ]
          },
          "metadata": {},
          "execution_count": 38
        },
        {
          "output_type": "stream",
          "name": "stdout",
          "text": [
            "--------- VALIDATION START!\n"
          ]
        },
        {
          "output_type": "stream",
          "name": "stderr",
          "text": [
            "DEBUG:logger:eval epoch time: 2.5151371849997304\n"
          ]
        }
      ]
    },
    {
      "cell_type": "code",
      "source": [
        "test_loss, test_acc, test_f1, test_pred, test_targ, test_ids = best_metrics\n",
        "\n",
        "print(f'Test. Loss: {test_loss:.3f} | Test. Acc: {test_acc*100:.2f}% | Test. F1: {test_f1:.2f}')"
      ],
      "metadata": {
        "colab": {
          "base_uri": "https://localhost:8080/"
        },
        "id": "qkIIUweZwhGD",
        "outputId": "0a4ad97f-52cf-4b9e-9cb4-ca1316460d73"
      },
      "execution_count": 39,
      "outputs": [
        {
          "output_type": "stream",
          "name": "stdout",
          "text": [
            "Test. Loss: 0.652 | Test. Acc: 64.82% | Test. F1: 0.61\n"
          ]
        }
      ]
    },
    {
      "cell_type": "code",
      "source": [
        "random_idx = random.randint(0, len(test_ids)-1)\n",
        "print(f\"Label predicted: {int(test_pred[random_idx])}\")\n",
        "print(\"Correct prediction :)\") if int(test_pred[random_idx]) == int(test_targ[random_idx]) else print(\"Wrong prediction :(\") \n",
        "print(f\"Tweet: {(test['tweet'][test['tweet_id'] == int(test_ids[random_idx])]).values}\")\n",
        "test[test['tweet_id'] == int(test_ids[random_idx])]"
      ],
      "metadata": {
        "colab": {
          "base_uri": "https://localhost:8080/",
          "height": 366
        },
        "id": "CL3PjvR1M5H5",
        "outputId": "a40e6e81-c721-466e-86ee-85b625882a13"
      },
      "execution_count": 67,
      "outputs": [
        {
          "output_type": "stream",
          "name": "stdout",
          "text": [
            "Label predicted: 0\n",
            "Wrong prediction :(\n",
            "Tweet: [list(['yo', 'ttttt', 'can', 'we', 'push', 'our', 'tarkov', 'date', 'back', 'to', 'possibly', 'july', '22nd', 'things', 'came', 'up', 'hope', 'you', 'understand'])]\n"
          ]
        },
        {
          "output_type": "execute_result",
          "data": {
            "text/plain": [
              "       tweet_id  account_id  \\\n",
              "60356     60461  4699719036   \n",
              "\n",
              "                                                   tweet  neighbor  \\\n",
              "60356  [yo, ttttt, can, we, push, our, tarkov, date, ...       NaN   \n",
              "\n",
              "           domain  label   profile.id profile.id_str profile.name  \\\n",
              "60356  [Business]      1  4699719036     4699719036       Mizkif    \n",
              "\n",
              "      profile.screen_name  ... profile.profile_sidebar_border_color  \\\n",
              "60356         REALMizkif   ...                              000000    \n",
              "\n",
              "      profile.profile_sidebar_fill_color profile.profile_text_color  \\\n",
              "60356                            000000                     000000    \n",
              "\n",
              "      profile.profile_use_background_image profile.has_extended_profile  \\\n",
              "60356                               False                         True    \n",
              "\n",
              "      profile.default_profile profile.default_profile_image  \\\n",
              "60356                  False                         False    \n",
              "\n",
              "                                      neighbor.following  \\\n",
              "60356  [2850939923, 621577260, 520680837, 215743018, ...   \n",
              "\n",
              "                                       neighbor.follower  \\\n",
              "60356  [1197117058716196864, 1247985590357934088, 124...   \n",
              "\n",
              "                                               idx_tweet  \n",
              "60356  [259053, 112973, 46120, 22665, 278506, 150104,...  \n",
              "\n",
              "[1 rows x 47 columns]"
            ],
            "text/html": [
              "\n",
              "  <div id=\"df-bf715a4d-41c9-4af7-91f4-c37c4573ca4f\">\n",
              "    <div class=\"colab-df-container\">\n",
              "      <div>\n",
              "<style scoped>\n",
              "    .dataframe tbody tr th:only-of-type {\n",
              "        vertical-align: middle;\n",
              "    }\n",
              "\n",
              "    .dataframe tbody tr th {\n",
              "        vertical-align: top;\n",
              "    }\n",
              "\n",
              "    .dataframe thead th {\n",
              "        text-align: right;\n",
              "    }\n",
              "</style>\n",
              "<table border=\"1\" class=\"dataframe\">\n",
              "  <thead>\n",
              "    <tr style=\"text-align: right;\">\n",
              "      <th></th>\n",
              "      <th>tweet_id</th>\n",
              "      <th>account_id</th>\n",
              "      <th>tweet</th>\n",
              "      <th>neighbor</th>\n",
              "      <th>domain</th>\n",
              "      <th>label</th>\n",
              "      <th>profile.id</th>\n",
              "      <th>profile.id_str</th>\n",
              "      <th>profile.name</th>\n",
              "      <th>profile.screen_name</th>\n",
              "      <th>...</th>\n",
              "      <th>profile.profile_sidebar_border_color</th>\n",
              "      <th>profile.profile_sidebar_fill_color</th>\n",
              "      <th>profile.profile_text_color</th>\n",
              "      <th>profile.profile_use_background_image</th>\n",
              "      <th>profile.has_extended_profile</th>\n",
              "      <th>profile.default_profile</th>\n",
              "      <th>profile.default_profile_image</th>\n",
              "      <th>neighbor.following</th>\n",
              "      <th>neighbor.follower</th>\n",
              "      <th>idx_tweet</th>\n",
              "    </tr>\n",
              "  </thead>\n",
              "  <tbody>\n",
              "    <tr>\n",
              "      <th>60356</th>\n",
              "      <td>60461</td>\n",
              "      <td>4699719036</td>\n",
              "      <td>[yo, ttttt, can, we, push, our, tarkov, date, ...</td>\n",
              "      <td>NaN</td>\n",
              "      <td>[Business]</td>\n",
              "      <td>1</td>\n",
              "      <td>4699719036</td>\n",
              "      <td>4699719036</td>\n",
              "      <td>Mizkif</td>\n",
              "      <td>REALMizkif</td>\n",
              "      <td>...</td>\n",
              "      <td>000000</td>\n",
              "      <td>000000</td>\n",
              "      <td>000000</td>\n",
              "      <td>False</td>\n",
              "      <td>True</td>\n",
              "      <td>False</td>\n",
              "      <td>False</td>\n",
              "      <td>[2850939923, 621577260, 520680837, 215743018, ...</td>\n",
              "      <td>[1197117058716196864, 1247985590357934088, 124...</td>\n",
              "      <td>[259053, 112973, 46120, 22665, 278506, 150104,...</td>\n",
              "    </tr>\n",
              "  </tbody>\n",
              "</table>\n",
              "<p>1 rows × 47 columns</p>\n",
              "</div>\n",
              "      <button class=\"colab-df-convert\" onclick=\"convertToInteractive('df-bf715a4d-41c9-4af7-91f4-c37c4573ca4f')\"\n",
              "              title=\"Convert this dataframe to an interactive table.\"\n",
              "              style=\"display:none;\">\n",
              "        \n",
              "  <svg xmlns=\"http://www.w3.org/2000/svg\" height=\"24px\"viewBox=\"0 0 24 24\"\n",
              "       width=\"24px\">\n",
              "    <path d=\"M0 0h24v24H0V0z\" fill=\"none\"/>\n",
              "    <path d=\"M18.56 5.44l.94 2.06.94-2.06 2.06-.94-2.06-.94-.94-2.06-.94 2.06-2.06.94zm-11 1L8.5 8.5l.94-2.06 2.06-.94-2.06-.94L8.5 2.5l-.94 2.06-2.06.94zm10 10l.94 2.06.94-2.06 2.06-.94-2.06-.94-.94-2.06-.94 2.06-2.06.94z\"/><path d=\"M17.41 7.96l-1.37-1.37c-.4-.4-.92-.59-1.43-.59-.52 0-1.04.2-1.43.59L10.3 9.45l-7.72 7.72c-.78.78-.78 2.05 0 2.83L4 21.41c.39.39.9.59 1.41.59.51 0 1.02-.2 1.41-.59l7.78-7.78 2.81-2.81c.8-.78.8-2.07 0-2.86zM5.41 20L4 18.59l7.72-7.72 1.47 1.35L5.41 20z\"/>\n",
              "  </svg>\n",
              "      </button>\n",
              "      \n",
              "  <style>\n",
              "    .colab-df-container {\n",
              "      display:flex;\n",
              "      flex-wrap:wrap;\n",
              "      gap: 12px;\n",
              "    }\n",
              "\n",
              "    .colab-df-convert {\n",
              "      background-color: #E8F0FE;\n",
              "      border: none;\n",
              "      border-radius: 50%;\n",
              "      cursor: pointer;\n",
              "      display: none;\n",
              "      fill: #1967D2;\n",
              "      height: 32px;\n",
              "      padding: 0 0 0 0;\n",
              "      width: 32px;\n",
              "    }\n",
              "\n",
              "    .colab-df-convert:hover {\n",
              "      background-color: #E2EBFA;\n",
              "      box-shadow: 0px 1px 2px rgba(60, 64, 67, 0.3), 0px 1px 3px 1px rgba(60, 64, 67, 0.15);\n",
              "      fill: #174EA6;\n",
              "    }\n",
              "\n",
              "    [theme=dark] .colab-df-convert {\n",
              "      background-color: #3B4455;\n",
              "      fill: #D2E3FC;\n",
              "    }\n",
              "\n",
              "    [theme=dark] .colab-df-convert:hover {\n",
              "      background-color: #434B5C;\n",
              "      box-shadow: 0px 1px 3px 1px rgba(0, 0, 0, 0.15);\n",
              "      filter: drop-shadow(0px 1px 2px rgba(0, 0, 0, 0.3));\n",
              "      fill: #FFFFFF;\n",
              "    }\n",
              "  </style>\n",
              "\n",
              "      <script>\n",
              "        const buttonEl =\n",
              "          document.querySelector('#df-bf715a4d-41c9-4af7-91f4-c37c4573ca4f button.colab-df-convert');\n",
              "        buttonEl.style.display =\n",
              "          google.colab.kernel.accessAllowed ? 'block' : 'none';\n",
              "\n",
              "        async function convertToInteractive(key) {\n",
              "          const element = document.querySelector('#df-bf715a4d-41c9-4af7-91f4-c37c4573ca4f');\n",
              "          const dataTable =\n",
              "            await google.colab.kernel.invokeFunction('convertToInteractive',\n",
              "                                                     [key], {});\n",
              "          if (!dataTable) return;\n",
              "\n",
              "          const docLinkHtml = 'Like what you see? Visit the ' +\n",
              "            '<a target=\"_blank\" href=https://colab.research.google.com/notebooks/data_table.ipynb>data table notebook</a>'\n",
              "            + ' to learn more about interactive tables.';\n",
              "          element.innerHTML = '';\n",
              "          dataTable['output_type'] = 'display_data';\n",
              "          await google.colab.output.renderOutput(dataTable, element);\n",
              "          const docLink = document.createElement('div');\n",
              "          docLink.innerHTML = docLinkHtml;\n",
              "          element.appendChild(docLink);\n",
              "        }\n",
              "      </script>\n",
              "    </div>\n",
              "  </div>\n",
              "  "
            ]
          },
          "metadata": {},
          "execution_count": 67
        }
      ]
    }
  ],
  "metadata": {
    "kernelspec": {
      "display_name": "Python 3.10.4 ('twibot')",
      "language": "python",
      "name": "python3"
    },
    "language_info": {
      "codemirror_mode": {
        "name": "ipython",
        "version": 3
      },
      "file_extension": ".py",
      "mimetype": "text/x-python",
      "name": "python",
      "nbconvert_exporter": "python",
      "pygments_lexer": "ipython3",
      "version": "3.10.4"
    },
    "orig_nbformat": 4,
    "vscode": {
      "interpreter": {
        "hash": "c521e756a96b0e57d9e4bfbc813af2832f645fbc00ba345c365fd3ac66c6ded1"
      }
    },
    "colab": {
      "name": "rnn_colab.ipynb",
      "provenance": [],
      "collapsed_sections": []
    },
    "accelerator": "GPU",
    "gpuClass": "standard"
  },
  "nbformat": 4,
  "nbformat_minor": 0
}